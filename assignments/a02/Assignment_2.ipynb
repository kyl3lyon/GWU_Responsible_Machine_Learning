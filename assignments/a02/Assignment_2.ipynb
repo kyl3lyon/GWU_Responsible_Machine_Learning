{
  "cells": [
    {
      "cell_type": "markdown",
      "id": "1934d2de",
      "metadata": {
        "id": "1934d2de"
      },
      "source": [
        "## License \n",
        "\n",
        "Copyright 2021 Patrick Hall (jphall@gwu.edu)\n",
        "\n",
        "Licensed under the Apache License, Version 2.0 (the \"License\");\n",
        "you may not use this file except in compliance with the License.\n",
        "You may obtain a copy of the License at\n",
        "\n",
        "    http://www.apache.org/licenses/LICENSE-2.0\n",
        "\n",
        "Unless required by applicable law or agreed to in writing, software\n",
        "distributed under the License is distributed on an \"AS IS\" BASIS,\n",
        "WITHOUT WARRANTIES OR CONDITIONS OF ANY KIND, either express or implied.\n",
        "See the License for the specific language governing permissions and\n",
        "limitations under the License.\n",
        "\n",
        "*DISCLAIMER*: This notebook is not legal or compliance advice."
      ]
    },
    {
      "cell_type": "markdown",
      "id": "c7556803",
      "metadata": {
        "id": "c7556803"
      },
      "source": [
        "# Assignment 2 Template"
      ]
    },
    {
      "cell_type": "code",
      "source": [
        "import io\n",
        "from google.colab import files  "
      ],
      "metadata": {
        "id": "M_8m7OcMtg8Q"
      },
      "id": "M_8m7OcMtg8Q",
      "execution_count": 1,
      "outputs": []
    },
    {
      "cell_type": "code",
      "source": [
        "!pip install h2o"
      ],
      "metadata": {
        "colab": {
          "base_uri": "https://localhost:8080/"
        },
        "id": "oo-HmEVs-Zox",
        "outputId": "24ece60a-dc73-4bd1-c59f-fe5ea70cad22"
      },
      "id": "oo-HmEVs-Zox",
      "execution_count": 2,
      "outputs": [
        {
          "output_type": "stream",
          "name": "stdout",
          "text": [
            "Looking in indexes: https://pypi.org/simple, https://us-python.pkg.dev/colab-wheels/public/simple/\n",
            "Collecting h2o\n",
            "  Downloading h2o-3.36.1.2.tar.gz (177.0 MB)\n",
            "\u001b[K     |████████████████████████████████| 177.0 MB 34 kB/s \n",
            "\u001b[?25hRequirement already satisfied: requests in /usr/local/lib/python3.7/dist-packages (from h2o) (2.23.0)\n",
            "Requirement already satisfied: tabulate in /usr/local/lib/python3.7/dist-packages (from h2o) (0.8.9)\n",
            "Requirement already satisfied: future in /usr/local/lib/python3.7/dist-packages (from h2o) (0.16.0)\n",
            "Requirement already satisfied: urllib3!=1.25.0,!=1.25.1,<1.26,>=1.21.1 in /usr/local/lib/python3.7/dist-packages (from requests->h2o) (1.24.3)\n",
            "Requirement already satisfied: chardet<4,>=3.0.2 in /usr/local/lib/python3.7/dist-packages (from requests->h2o) (3.0.4)\n",
            "Requirement already satisfied: certifi>=2017.4.17 in /usr/local/lib/python3.7/dist-packages (from requests->h2o) (2022.5.18.1)\n",
            "Requirement already satisfied: idna<3,>=2.5 in /usr/local/lib/python3.7/dist-packages (from requests->h2o) (2.10)\n",
            "Building wheels for collected packages: h2o\n",
            "  Building wheel for h2o (setup.py) ... \u001b[?25l\u001b[?25hdone\n",
            "  Created wheel for h2o: filename=h2o-3.36.1.2-py2.py3-none-any.whl size=177070945 sha256=ffcb620c67a751d05850f34f01ff82813befb193b357b100b1313ec6b5be6429\n",
            "  Stored in directory: /root/.cache/pip/wheels/a5/2b/ae/534595df09001e1573b1046be62a3f049507307340119db65c\n",
            "Successfully built h2o\n",
            "Installing collected packages: h2o\n",
            "Successfully installed h2o-3.36.1.2\n"
          ]
        }
      ]
    },
    {
      "cell_type": "code",
      "source": [
        "!pip install interpret"
      ],
      "metadata": {
        "colab": {
          "base_uri": "https://localhost:8080/",
          "height": 1000
        },
        "id": "x3HxB3PS-73u",
        "outputId": "6d326499-a277-4902-986e-19f253943efe"
      },
      "id": "x3HxB3PS-73u",
      "execution_count": 4,
      "outputs": [
        {
          "output_type": "stream",
          "name": "stdout",
          "text": [
            "Looking in indexes: https://pypi.org/simple, https://us-python.pkg.dev/colab-wheels/public/simple/\n",
            "Collecting interpret\n",
            "  Downloading interpret-0.2.7-py3-none-any.whl (1.4 kB)\n",
            "Collecting interpret-core[dash,debug,decisiontree,ebm,lime,linear,notebook,plotly,required,sensitivity,shap,skoperules,treeinterpreter]>=0.2.7\n",
            "  Downloading interpret_core-0.2.7-py3-none-any.whl (6.6 MB)\n",
            "\u001b[K     |████████████████████████████████| 6.6 MB 6.8 MB/s \n",
            "\u001b[?25hRequirement already satisfied: dill>=0.2.5 in /usr/local/lib/python3.7/dist-packages (from interpret-core[dash,debug,decisiontree,ebm,lime,linear,notebook,plotly,required,sensitivity,shap,skoperules,treeinterpreter]>=0.2.7->interpret) (0.3.5.1)\n",
            "Collecting shap>=0.28.5\n",
            "  Downloading shap-0.40.0-cp37-cp37m-manylinux2010_x86_64.whl (564 kB)\n",
            "\u001b[K     |████████████████████████████████| 564 kB 49.2 MB/s \n",
            "\u001b[?25hRequirement already satisfied: joblib>=0.11 in /usr/local/lib/python3.7/dist-packages (from interpret-core[dash,debug,decisiontree,ebm,lime,linear,notebook,plotly,required,sensitivity,shap,skoperules,treeinterpreter]>=0.2.7->interpret) (1.1.0)\n",
            "Collecting psutil>=5.6.2\n",
            "  Downloading psutil-5.9.1-cp37-cp37m-manylinux_2_12_x86_64.manylinux2010_x86_64.manylinux_2_17_x86_64.manylinux2014_x86_64.whl (281 kB)\n",
            "\u001b[K     |████████████████████████████████| 281 kB 52.8 MB/s \n",
            "\u001b[?25hCollecting ipython>=7.4.0\n",
            "  Downloading ipython-7.34.0-py3-none-any.whl (793 kB)\n",
            "\u001b[K     |████████████████████████████████| 793 kB 40.3 MB/s \n",
            "\u001b[?25hCollecting ipykernel>=5.1.0\n",
            "  Downloading ipykernel-6.13.0-py3-none-any.whl (131 kB)\n",
            "\u001b[K     |████████████████████████████████| 131 kB 50.8 MB/s \n",
            "\u001b[?25hCollecting SALib>=1.3.3\n",
            "  Downloading SALib-1.4.5-py2.py3-none-any.whl (756 kB)\n",
            "\u001b[K     |████████████████████████████████| 756 kB 52.7 MB/s \n",
            "\u001b[?25hCollecting skope-rules>=1.0.1\n",
            "  Downloading skope_rules-1.0.1-py3-none-any.whl (14 kB)\n",
            "Collecting dash-cytoscape>=0.1.1\n",
            "  Downloading dash_cytoscape-0.3.0-py3-none-any.whl (3.6 MB)\n",
            "\u001b[K     |████████████████████████████████| 3.6 MB 42.6 MB/s \n",
            "\u001b[?25hCollecting gevent>=1.3.6\n",
            "  Downloading gevent-21.12.0-cp37-cp37m-manylinux_2_12_x86_64.manylinux2010_x86_64.whl (5.8 MB)\n",
            "\u001b[K     |████████████████████████████████| 5.8 MB 25.0 MB/s \n",
            "\u001b[?25hCollecting dash-table>=4.1.0\n",
            "  Downloading dash_table-5.0.0-py3-none-any.whl (3.9 kB)\n",
            "Collecting dash>=1.0.0\n",
            "  Downloading dash-2.4.1-py3-none-any.whl (9.8 MB)\n",
            "\u001b[K     |████████████████████████████████| 9.8 MB 15.9 MB/s \n",
            "\u001b[?25hRequirement already satisfied: requests>=2.19.0 in /usr/local/lib/python3.7/dist-packages (from interpret-core[dash,debug,decisiontree,ebm,lime,linear,notebook,plotly,required,sensitivity,shap,skoperules,treeinterpreter]>=0.2.7->interpret) (2.23.0)\n",
            "Requirement already satisfied: plotly>=3.8.1 in /usr/local/lib/python3.7/dist-packages (from interpret-core[dash,debug,decisiontree,ebm,lime,linear,notebook,plotly,required,sensitivity,shap,skoperules,treeinterpreter]>=0.2.7->interpret) (5.5.0)\n",
            "Collecting treeinterpreter>=0.2.2\n",
            "  Downloading treeinterpreter-0.2.3-py2.py3-none-any.whl (6.0 kB)\n",
            "Collecting lime>=0.1.1.33\n",
            "  Downloading lime-0.2.0.1.tar.gz (275 kB)\n",
            "\u001b[K     |████████████████████████████████| 275 kB 46.1 MB/s \n",
            "\u001b[?25hRequirement already satisfied: numpy>=1.11.1 in /usr/local/lib/python3.7/dist-packages (from interpret-core[dash,debug,decisiontree,ebm,lime,linear,notebook,plotly,required,sensitivity,shap,skoperules,treeinterpreter]>=0.2.7->interpret) (1.21.6)\n",
            "Requirement already satisfied: scikit-learn>=0.18.1 in /usr/local/lib/python3.7/dist-packages (from interpret-core[dash,debug,decisiontree,ebm,lime,linear,notebook,plotly,required,sensitivity,shap,skoperules,treeinterpreter]>=0.2.7->interpret) (1.0.2)\n",
            "Requirement already satisfied: pandas>=0.19.2 in /usr/local/lib/python3.7/dist-packages (from interpret-core[dash,debug,decisiontree,ebm,lime,linear,notebook,plotly,required,sensitivity,shap,skoperules,treeinterpreter]>=0.2.7->interpret) (1.3.5)\n",
            "Requirement already satisfied: scipy>=0.18.1 in /usr/local/lib/python3.7/dist-packages (from interpret-core[dash,debug,decisiontree,ebm,lime,linear,notebook,plotly,required,sensitivity,shap,skoperules,treeinterpreter]>=0.2.7->interpret) (1.4.1)\n",
            "Requirement already satisfied: Flask>=1.0.4 in /usr/local/lib/python3.7/dist-packages (from dash>=1.0.0->interpret-core[dash,debug,decisiontree,ebm,lime,linear,notebook,plotly,required,sensitivity,shap,skoperules,treeinterpreter]>=0.2.7->interpret) (1.1.4)\n",
            "Collecting dash-html-components==2.0.0\n",
            "  Downloading dash_html_components-2.0.0-py3-none-any.whl (4.1 kB)\n",
            "Collecting dash-core-components==2.0.0\n",
            "  Downloading dash_core_components-2.0.0-py3-none-any.whl (3.8 kB)\n",
            "Collecting flask-compress\n",
            "  Downloading Flask_Compress-1.12-py3-none-any.whl (7.9 kB)\n",
            "Requirement already satisfied: Werkzeug<2.0,>=0.15 in /usr/local/lib/python3.7/dist-packages (from Flask>=1.0.4->dash>=1.0.0->interpret-core[dash,debug,decisiontree,ebm,lime,linear,notebook,plotly,required,sensitivity,shap,skoperules,treeinterpreter]>=0.2.7->interpret) (1.0.1)\n",
            "Requirement already satisfied: click<8.0,>=5.1 in /usr/local/lib/python3.7/dist-packages (from Flask>=1.0.4->dash>=1.0.0->interpret-core[dash,debug,decisiontree,ebm,lime,linear,notebook,plotly,required,sensitivity,shap,skoperules,treeinterpreter]>=0.2.7->interpret) (7.1.2)\n",
            "Requirement already satisfied: itsdangerous<2.0,>=0.24 in /usr/local/lib/python3.7/dist-packages (from Flask>=1.0.4->dash>=1.0.0->interpret-core[dash,debug,decisiontree,ebm,lime,linear,notebook,plotly,required,sensitivity,shap,skoperules,treeinterpreter]>=0.2.7->interpret) (1.1.0)\n",
            "Requirement already satisfied: Jinja2<3.0,>=2.10.1 in /usr/local/lib/python3.7/dist-packages (from Flask>=1.0.4->dash>=1.0.0->interpret-core[dash,debug,decisiontree,ebm,lime,linear,notebook,plotly,required,sensitivity,shap,skoperules,treeinterpreter]>=0.2.7->interpret) (2.11.3)\n",
            "Requirement already satisfied: greenlet<2.0,>=1.1.0 in /usr/local/lib/python3.7/dist-packages (from gevent>=1.3.6->interpret-core[dash,debug,decisiontree,ebm,lime,linear,notebook,plotly,required,sensitivity,shap,skoperules,treeinterpreter]>=0.2.7->interpret) (1.1.2)\n",
            "Collecting zope.interface\n",
            "  Downloading zope.interface-5.4.0-cp37-cp37m-manylinux2010_x86_64.whl (251 kB)\n",
            "\u001b[K     |████████████████████████████████| 251 kB 46.9 MB/s \n",
            "\u001b[?25hCollecting zope.event\n",
            "  Downloading zope.event-4.5.0-py2.py3-none-any.whl (6.8 kB)\n",
            "Requirement already satisfied: setuptools in /usr/local/lib/python3.7/dist-packages (from gevent>=1.3.6->interpret-core[dash,debug,decisiontree,ebm,lime,linear,notebook,plotly,required,sensitivity,shap,skoperules,treeinterpreter]>=0.2.7->interpret) (57.4.0)\n",
            "Requirement already satisfied: matplotlib-inline>=0.1 in /usr/local/lib/python3.7/dist-packages (from ipykernel>=5.1.0->interpret-core[dash,debug,decisiontree,ebm,lime,linear,notebook,plotly,required,sensitivity,shap,skoperules,treeinterpreter]>=0.2.7->interpret) (0.1.3)\n",
            "Collecting tornado>=6.1\n",
            "  Downloading tornado-6.1-cp37-cp37m-manylinux2010_x86_64.whl (428 kB)\n",
            "\u001b[K     |████████████████████████████████| 428 kB 37.7 MB/s \n",
            "\u001b[?25hRequirement already satisfied: traitlets>=5.1.0 in /usr/local/lib/python3.7/dist-packages (from ipykernel>=5.1.0->interpret-core[dash,debug,decisiontree,ebm,lime,linear,notebook,plotly,required,sensitivity,shap,skoperules,treeinterpreter]>=0.2.7->interpret) (5.1.1)\n",
            "Requirement already satisfied: debugpy>=1.0 in /usr/local/lib/python3.7/dist-packages (from ipykernel>=5.1.0->interpret-core[dash,debug,decisiontree,ebm,lime,linear,notebook,plotly,required,sensitivity,shap,skoperules,treeinterpreter]>=0.2.7->interpret) (1.0.0)\n",
            "Requirement already satisfied: nest-asyncio in /usr/local/lib/python3.7/dist-packages (from ipykernel>=5.1.0->interpret-core[dash,debug,decisiontree,ebm,lime,linear,notebook,plotly,required,sensitivity,shap,skoperules,treeinterpreter]>=0.2.7->interpret) (1.5.5)\n",
            "Requirement already satisfied: packaging in /usr/local/lib/python3.7/dist-packages (from ipykernel>=5.1.0->interpret-core[dash,debug,decisiontree,ebm,lime,linear,notebook,plotly,required,sensitivity,shap,skoperules,treeinterpreter]>=0.2.7->interpret) (21.3)\n",
            "Collecting jupyter-client>=6.1.12\n",
            "  Downloading jupyter_client-7.3.1-py3-none-any.whl (130 kB)\n",
            "\u001b[K     |████████████████████████████████| 130 kB 62.6 MB/s \n",
            "\u001b[?25hRequirement already satisfied: backcall in /usr/local/lib/python3.7/dist-packages (from ipython>=7.4.0->interpret-core[dash,debug,decisiontree,ebm,lime,linear,notebook,plotly,required,sensitivity,shap,skoperules,treeinterpreter]>=0.2.7->interpret) (0.2.0)\n",
            "Requirement already satisfied: pygments in /usr/local/lib/python3.7/dist-packages (from ipython>=7.4.0->interpret-core[dash,debug,decisiontree,ebm,lime,linear,notebook,plotly,required,sensitivity,shap,skoperules,treeinterpreter]>=0.2.7->interpret) (2.6.1)\n",
            "Requirement already satisfied: pexpect>4.3 in /usr/local/lib/python3.7/dist-packages (from ipython>=7.4.0->interpret-core[dash,debug,decisiontree,ebm,lime,linear,notebook,plotly,required,sensitivity,shap,skoperules,treeinterpreter]>=0.2.7->interpret) (4.8.0)\n",
            "Requirement already satisfied: decorator in /usr/local/lib/python3.7/dist-packages (from ipython>=7.4.0->interpret-core[dash,debug,decisiontree,ebm,lime,linear,notebook,plotly,required,sensitivity,shap,skoperules,treeinterpreter]>=0.2.7->interpret) (4.4.2)\n",
            "Requirement already satisfied: pickleshare in /usr/local/lib/python3.7/dist-packages (from ipython>=7.4.0->interpret-core[dash,debug,decisiontree,ebm,lime,linear,notebook,plotly,required,sensitivity,shap,skoperules,treeinterpreter]>=0.2.7->interpret) (0.7.5)\n",
            "Requirement already satisfied: jedi>=0.16 in /usr/local/lib/python3.7/dist-packages (from ipython>=7.4.0->interpret-core[dash,debug,decisiontree,ebm,lime,linear,notebook,plotly,required,sensitivity,shap,skoperules,treeinterpreter]>=0.2.7->interpret) (0.18.1)\n",
            "Collecting prompt-toolkit!=3.0.0,!=3.0.1,<3.1.0,>=2.0.0\n",
            "  Downloading prompt_toolkit-3.0.29-py3-none-any.whl (381 kB)\n",
            "\u001b[K     |████████████████████████████████| 381 kB 58.6 MB/s \n",
            "\u001b[?25hRequirement already satisfied: parso<0.9.0,>=0.8.0 in /usr/local/lib/python3.7/dist-packages (from jedi>=0.16->ipython>=7.4.0->interpret-core[dash,debug,decisiontree,ebm,lime,linear,notebook,plotly,required,sensitivity,shap,skoperules,treeinterpreter]>=0.2.7->interpret) (0.8.3)\n",
            "Requirement already satisfied: MarkupSafe>=0.23 in /usr/local/lib/python3.7/dist-packages (from Jinja2<3.0,>=2.10.1->Flask>=1.0.4->dash>=1.0.0->interpret-core[dash,debug,decisiontree,ebm,lime,linear,notebook,plotly,required,sensitivity,shap,skoperules,treeinterpreter]>=0.2.7->interpret) (2.0.1)\n",
            "Requirement already satisfied: python-dateutil>=2.8.2 in /usr/local/lib/python3.7/dist-packages (from jupyter-client>=6.1.12->ipykernel>=5.1.0->interpret-core[dash,debug,decisiontree,ebm,lime,linear,notebook,plotly,required,sensitivity,shap,skoperules,treeinterpreter]>=0.2.7->interpret) (2.8.2)\n",
            "Requirement already satisfied: entrypoints in /usr/local/lib/python3.7/dist-packages (from jupyter-client>=6.1.12->ipykernel>=5.1.0->interpret-core[dash,debug,decisiontree,ebm,lime,linear,notebook,plotly,required,sensitivity,shap,skoperules,treeinterpreter]>=0.2.7->interpret) (0.4)\n",
            "Requirement already satisfied: jupyter-core>=4.9.2 in /usr/local/lib/python3.7/dist-packages (from jupyter-client>=6.1.12->ipykernel>=5.1.0->interpret-core[dash,debug,decisiontree,ebm,lime,linear,notebook,plotly,required,sensitivity,shap,skoperules,treeinterpreter]>=0.2.7->interpret) (4.10.0)\n",
            "Requirement already satisfied: pyzmq>=22.3 in /usr/local/lib/python3.7/dist-packages (from jupyter-client>=6.1.12->ipykernel>=5.1.0->interpret-core[dash,debug,decisiontree,ebm,lime,linear,notebook,plotly,required,sensitivity,shap,skoperules,treeinterpreter]>=0.2.7->interpret) (23.0.0)\n",
            "Requirement already satisfied: matplotlib in /usr/local/lib/python3.7/dist-packages (from lime>=0.1.1.33->interpret-core[dash,debug,decisiontree,ebm,lime,linear,notebook,plotly,required,sensitivity,shap,skoperules,treeinterpreter]>=0.2.7->interpret) (3.2.2)\n",
            "Requirement already satisfied: tqdm in /usr/local/lib/python3.7/dist-packages (from lime>=0.1.1.33->interpret-core[dash,debug,decisiontree,ebm,lime,linear,notebook,plotly,required,sensitivity,shap,skoperules,treeinterpreter]>=0.2.7->interpret) (4.64.0)\n",
            "Requirement already satisfied: scikit-image>=0.12 in /usr/local/lib/python3.7/dist-packages (from lime>=0.1.1.33->interpret-core[dash,debug,decisiontree,ebm,lime,linear,notebook,plotly,required,sensitivity,shap,skoperules,treeinterpreter]>=0.2.7->interpret) (0.18.3)\n",
            "Requirement already satisfied: pytz>=2017.3 in /usr/local/lib/python3.7/dist-packages (from pandas>=0.19.2->interpret-core[dash,debug,decisiontree,ebm,lime,linear,notebook,plotly,required,sensitivity,shap,skoperules,treeinterpreter]>=0.2.7->interpret) (2022.1)\n",
            "Requirement already satisfied: ptyprocess>=0.5 in /usr/local/lib/python3.7/dist-packages (from pexpect>4.3->ipython>=7.4.0->interpret-core[dash,debug,decisiontree,ebm,lime,linear,notebook,plotly,required,sensitivity,shap,skoperules,treeinterpreter]>=0.2.7->interpret) (0.7.0)\n",
            "Requirement already satisfied: tenacity>=6.2.0 in /usr/local/lib/python3.7/dist-packages (from plotly>=3.8.1->interpret-core[dash,debug,decisiontree,ebm,lime,linear,notebook,plotly,required,sensitivity,shap,skoperules,treeinterpreter]>=0.2.7->interpret) (8.0.1)\n",
            "Requirement already satisfied: six in /usr/local/lib/python3.7/dist-packages (from plotly>=3.8.1->interpret-core[dash,debug,decisiontree,ebm,lime,linear,notebook,plotly,required,sensitivity,shap,skoperules,treeinterpreter]>=0.2.7->interpret) (1.15.0)\n",
            "Requirement already satisfied: wcwidth in /usr/local/lib/python3.7/dist-packages (from prompt-toolkit!=3.0.0,!=3.0.1,<3.1.0,>=2.0.0->ipython>=7.4.0->interpret-core[dash,debug,decisiontree,ebm,lime,linear,notebook,plotly,required,sensitivity,shap,skoperules,treeinterpreter]>=0.2.7->interpret) (0.2.5)\n",
            "Requirement already satisfied: chardet<4,>=3.0.2 in /usr/local/lib/python3.7/dist-packages (from requests>=2.19.0->interpret-core[dash,debug,decisiontree,ebm,lime,linear,notebook,plotly,required,sensitivity,shap,skoperules,treeinterpreter]>=0.2.7->interpret) (3.0.4)\n",
            "Requirement already satisfied: certifi>=2017.4.17 in /usr/local/lib/python3.7/dist-packages (from requests>=2.19.0->interpret-core[dash,debug,decisiontree,ebm,lime,linear,notebook,plotly,required,sensitivity,shap,skoperules,treeinterpreter]>=0.2.7->interpret) (2022.5.18.1)\n",
            "Requirement already satisfied: urllib3!=1.25.0,!=1.25.1,<1.26,>=1.21.1 in /usr/local/lib/python3.7/dist-packages (from requests>=2.19.0->interpret-core[dash,debug,decisiontree,ebm,lime,linear,notebook,plotly,required,sensitivity,shap,skoperules,treeinterpreter]>=0.2.7->interpret) (1.24.3)\n",
            "Requirement already satisfied: idna<3,>=2.5 in /usr/local/lib/python3.7/dist-packages (from requests>=2.19.0->interpret-core[dash,debug,decisiontree,ebm,lime,linear,notebook,plotly,required,sensitivity,shap,skoperules,treeinterpreter]>=0.2.7->interpret) (2.10)\n",
            "Requirement already satisfied: wheel in /usr/local/lib/python3.7/dist-packages (from SALib>=1.3.3->interpret-core[dash,debug,decisiontree,ebm,lime,linear,notebook,plotly,required,sensitivity,shap,skoperules,treeinterpreter]>=0.2.7->interpret) (0.37.1)\n",
            "Collecting pathos\n",
            "  Downloading pathos-0.2.9-py3-none-any.whl (76 kB)\n",
            "\u001b[K     |████████████████████████████████| 76 kB 4.6 MB/s \n",
            "\u001b[?25hRequirement already satisfied: importlib-metadata in /usr/local/lib/python3.7/dist-packages (from SALib>=1.3.3->interpret-core[dash,debug,decisiontree,ebm,lime,linear,notebook,plotly,required,sensitivity,shap,skoperules,treeinterpreter]>=0.2.7->interpret) (4.11.4)\n",
            "Requirement already satisfied: networkx>=2.0 in /usr/local/lib/python3.7/dist-packages (from scikit-image>=0.12->lime>=0.1.1.33->interpret-core[dash,debug,decisiontree,ebm,lime,linear,notebook,plotly,required,sensitivity,shap,skoperules,treeinterpreter]>=0.2.7->interpret) (2.6.3)\n",
            "Requirement already satisfied: pillow!=7.1.0,!=7.1.1,>=4.3.0 in /usr/local/lib/python3.7/dist-packages (from scikit-image>=0.12->lime>=0.1.1.33->interpret-core[dash,debug,decisiontree,ebm,lime,linear,notebook,plotly,required,sensitivity,shap,skoperules,treeinterpreter]>=0.2.7->interpret) (7.1.2)\n",
            "Requirement already satisfied: imageio>=2.3.0 in /usr/local/lib/python3.7/dist-packages (from scikit-image>=0.12->lime>=0.1.1.33->interpret-core[dash,debug,decisiontree,ebm,lime,linear,notebook,plotly,required,sensitivity,shap,skoperules,treeinterpreter]>=0.2.7->interpret) (2.4.1)\n",
            "Requirement already satisfied: tifffile>=2019.7.26 in /usr/local/lib/python3.7/dist-packages (from scikit-image>=0.12->lime>=0.1.1.33->interpret-core[dash,debug,decisiontree,ebm,lime,linear,notebook,plotly,required,sensitivity,shap,skoperules,treeinterpreter]>=0.2.7->interpret) (2021.11.2)\n",
            "Requirement already satisfied: PyWavelets>=1.1.1 in /usr/local/lib/python3.7/dist-packages (from scikit-image>=0.12->lime>=0.1.1.33->interpret-core[dash,debug,decisiontree,ebm,lime,linear,notebook,plotly,required,sensitivity,shap,skoperules,treeinterpreter]>=0.2.7->interpret) (1.3.0)\n",
            "Requirement already satisfied: pyparsing!=2.0.4,!=2.1.2,!=2.1.6,>=2.0.1 in /usr/local/lib/python3.7/dist-packages (from matplotlib->lime>=0.1.1.33->interpret-core[dash,debug,decisiontree,ebm,lime,linear,notebook,plotly,required,sensitivity,shap,skoperules,treeinterpreter]>=0.2.7->interpret) (3.0.9)\n",
            "Requirement already satisfied: kiwisolver>=1.0.1 in /usr/local/lib/python3.7/dist-packages (from matplotlib->lime>=0.1.1.33->interpret-core[dash,debug,decisiontree,ebm,lime,linear,notebook,plotly,required,sensitivity,shap,skoperules,treeinterpreter]>=0.2.7->interpret) (1.4.2)\n",
            "Requirement already satisfied: cycler>=0.10 in /usr/local/lib/python3.7/dist-packages (from matplotlib->lime>=0.1.1.33->interpret-core[dash,debug,decisiontree,ebm,lime,linear,notebook,plotly,required,sensitivity,shap,skoperules,treeinterpreter]>=0.2.7->interpret) (0.11.0)\n",
            "Requirement already satisfied: typing-extensions in /usr/local/lib/python3.7/dist-packages (from kiwisolver>=1.0.1->matplotlib->lime>=0.1.1.33->interpret-core[dash,debug,decisiontree,ebm,lime,linear,notebook,plotly,required,sensitivity,shap,skoperules,treeinterpreter]>=0.2.7->interpret) (4.2.0)\n",
            "Requirement already satisfied: threadpoolctl>=2.0.0 in /usr/local/lib/python3.7/dist-packages (from scikit-learn>=0.18.1->interpret-core[dash,debug,decisiontree,ebm,lime,linear,notebook,plotly,required,sensitivity,shap,skoperules,treeinterpreter]>=0.2.7->interpret) (3.1.0)\n",
            "Collecting slicer==0.0.7\n",
            "  Downloading slicer-0.0.7-py3-none-any.whl (14 kB)\n",
            "Requirement already satisfied: cloudpickle in /usr/local/lib/python3.7/dist-packages (from shap>=0.28.5->interpret-core[dash,debug,decisiontree,ebm,lime,linear,notebook,plotly,required,sensitivity,shap,skoperules,treeinterpreter]>=0.2.7->interpret) (1.3.0)\n",
            "Requirement already satisfied: numba in /usr/local/lib/python3.7/dist-packages (from shap>=0.28.5->interpret-core[dash,debug,decisiontree,ebm,lime,linear,notebook,plotly,required,sensitivity,shap,skoperules,treeinterpreter]>=0.2.7->interpret) (0.51.2)\n",
            "Collecting brotli\n",
            "  Downloading Brotli-1.0.9-cp37-cp37m-manylinux1_x86_64.whl (357 kB)\n",
            "\u001b[K     |████████████████████████████████| 357 kB 54.6 MB/s \n",
            "\u001b[?25hRequirement already satisfied: zipp>=0.5 in /usr/local/lib/python3.7/dist-packages (from importlib-metadata->SALib>=1.3.3->interpret-core[dash,debug,decisiontree,ebm,lime,linear,notebook,plotly,required,sensitivity,shap,skoperules,treeinterpreter]>=0.2.7->interpret) (3.8.0)\n",
            "Requirement already satisfied: llvmlite<0.35,>=0.34.0.dev0 in /usr/local/lib/python3.7/dist-packages (from numba->shap>=0.28.5->interpret-core[dash,debug,decisiontree,ebm,lime,linear,notebook,plotly,required,sensitivity,shap,skoperules,treeinterpreter]>=0.2.7->interpret) (0.34.0)\n",
            "Collecting ppft>=1.7.6.5\n",
            "  Downloading ppft-1.7.6.5-py2.py3-none-any.whl (52 kB)\n",
            "\u001b[K     |████████████████████████████████| 52 kB 1.1 MB/s \n",
            "\u001b[?25hRequirement already satisfied: multiprocess>=0.70.13 in /usr/local/lib/python3.7/dist-packages (from pathos->SALib>=1.3.3->interpret-core[dash,debug,decisiontree,ebm,lime,linear,notebook,plotly,required,sensitivity,shap,skoperules,treeinterpreter]>=0.2.7->interpret) (0.70.13)\n",
            "Collecting pox>=0.3.1\n",
            "  Downloading pox-0.3.1-py2.py3-none-any.whl (28 kB)\n",
            "Building wheels for collected packages: lime\n",
            "  Building wheel for lime (setup.py) ... \u001b[?25l\u001b[?25hdone\n",
            "  Created wheel for lime: filename=lime-0.2.0.1-py3-none-any.whl size=283857 sha256=36fc4176aca27217b2b6aae508e648487ea6eb7ac2384b673dc212185db5b979\n",
            "  Stored in directory: /root/.cache/pip/wheels/ca/cb/e5/ac701e12d365a08917bf4c6171c0961bc880a8181359c66aa7\n",
            "Successfully built lime\n",
            "Installing collected packages: brotli, tornado, prompt-toolkit, ppft, pox, flask-compress, dash-table, dash-html-components, dash-core-components, zope.interface, zope.event, slicer, psutil, pathos, jupyter-client, ipython, dash, treeinterpreter, skope-rules, shap, SALib, lime, ipykernel, interpret-core, gevent, dash-cytoscape, interpret\n",
            "  Attempting uninstall: tornado\n",
            "    Found existing installation: tornado 5.1.1\n",
            "    Uninstalling tornado-5.1.1:\n",
            "      Successfully uninstalled tornado-5.1.1\n",
            "  Attempting uninstall: prompt-toolkit\n",
            "    Found existing installation: prompt-toolkit 1.0.18\n",
            "    Uninstalling prompt-toolkit-1.0.18:\n",
            "      Successfully uninstalled prompt-toolkit-1.0.18\n",
            "  Attempting uninstall: psutil\n",
            "    Found existing installation: psutil 5.4.8\n",
            "    Uninstalling psutil-5.4.8:\n",
            "      Successfully uninstalled psutil-5.4.8\n",
            "  Attempting uninstall: jupyter-client\n",
            "    Found existing installation: jupyter-client 5.3.5\n",
            "    Uninstalling jupyter-client-5.3.5:\n",
            "      Successfully uninstalled jupyter-client-5.3.5\n",
            "  Attempting uninstall: ipython\n",
            "    Found existing installation: ipython 5.5.0\n",
            "    Uninstalling ipython-5.5.0:\n",
            "      Successfully uninstalled ipython-5.5.0\n",
            "  Attempting uninstall: ipykernel\n",
            "    Found existing installation: ipykernel 4.10.1\n",
            "    Uninstalling ipykernel-4.10.1:\n",
            "      Successfully uninstalled ipykernel-4.10.1\n",
            "\u001b[31mERROR: pip's dependency resolver does not currently take into account all the packages that are installed. This behaviour is the source of the following dependency conflicts.\n",
            "jupyter-console 5.2.0 requires prompt-toolkit<2.0.0,>=1.0.0, but you have prompt-toolkit 3.0.29 which is incompatible.\n",
            "google-colab 1.0.0 requires ipykernel~=4.10, but you have ipykernel 6.13.0 which is incompatible.\n",
            "google-colab 1.0.0 requires ipython~=5.5.0, but you have ipython 7.34.0 which is incompatible.\n",
            "google-colab 1.0.0 requires tornado~=5.1.0; python_version >= \"3.0\", but you have tornado 6.1 which is incompatible.\u001b[0m\n",
            "Successfully installed SALib-1.4.5 brotli-1.0.9 dash-2.4.1 dash-core-components-2.0.0 dash-cytoscape-0.3.0 dash-html-components-2.0.0 dash-table-5.0.0 flask-compress-1.12 gevent-21.12.0 interpret-0.2.7 interpret-core-0.2.7 ipykernel-6.13.0 ipython-7.34.0 jupyter-client-7.3.1 lime-0.2.0.1 pathos-0.2.9 pox-0.3.1 ppft-1.7.6.5 prompt-toolkit-3.0.29 psutil-5.9.1 shap-0.40.0 skope-rules-1.0.1 slicer-0.0.7 tornado-6.1 treeinterpreter-0.2.3 zope.event-4.5.0 zope.interface-5.4.0\n"
          ]
        },
        {
          "output_type": "display_data",
          "data": {
            "application/vnd.colab-display-data+json": {
              "pip_warning": {
                "packages": [
                  "IPython",
                  "ipykernel",
                  "jupyter_client",
                  "prompt_toolkit",
                  "psutil",
                  "tornado"
                ]
              }
            }
          },
          "metadata": {}
        }
      ]
    },
    {
      "cell_type": "code",
      "source": [
        "!pip install -r \"requirements.txt\""
      ],
      "metadata": {
        "colab": {
          "base_uri": "https://localhost:8080/"
        },
        "id": "jN7eOfwnuOL0",
        "outputId": "765b2389-f30c-4887-c87b-e5519985a1b0"
      },
      "id": "jN7eOfwnuOL0",
      "execution_count": null,
      "outputs": [
        {
          "output_type": "stream",
          "name": "stdout",
          "text": [
            "\u001b[31mERROR: Could not open requirements file: [Errno 2] No such file or directory: 'requirements.txt'\u001b[0m\n"
          ]
        }
      ]
    },
    {
      "cell_type": "markdown",
      "id": "44ddbb28",
      "metadata": {
        "id": "44ddbb28"
      },
      "source": [
        "#### Imports and inits"
      ]
    },
    {
      "cell_type": "code",
      "execution_count": 5,
      "id": "4baedf75",
      "metadata": {
        "scrolled": true,
        "colab": {
          "base_uri": "https://localhost:8080/",
          "height": 525
        },
        "id": "4baedf75",
        "outputId": "5d72f293-3266-475f-bb5e-6c49410459bf"
      },
      "outputs": [
        {
          "output_type": "stream",
          "name": "stdout",
          "text": [
            "Checking whether there is an H2O instance running at http://localhost:54321 ..... not found.\n",
            "Attempting to start a local H2O server...\n",
            "  Java Version: openjdk version \"11.0.15\" 2022-04-19; OpenJDK Runtime Environment (build 11.0.15+10-Ubuntu-0ubuntu0.18.04.1); OpenJDK 64-Bit Server VM (build 11.0.15+10-Ubuntu-0ubuntu0.18.04.1, mixed mode, sharing)\n",
            "  Starting server from /usr/local/lib/python3.7/dist-packages/h2o/backend/bin/h2o.jar\n",
            "  Ice root: /tmp/tmpqr5h_y7q\n",
            "  JVM stdout: /tmp/tmpqr5h_y7q/h2o_unknownUser_started_from_python.out\n",
            "  JVM stderr: /tmp/tmpqr5h_y7q/h2o_unknownUser_started_from_python.err\n",
            "  Server is running at http://127.0.0.1:54321\n",
            "Connecting to H2O server at http://127.0.0.1:54321 ... successful.\n"
          ]
        },
        {
          "output_type": "display_data",
          "data": {
            "text/plain": [
              "--------------------------  ----------------------------------\n",
              "H2O_cluster_uptime:         04 secs\n",
              "H2O_cluster_timezone:       Etc/UTC\n",
              "H2O_data_parsing_timezone:  UTC\n",
              "H2O_cluster_version:        3.36.1.2\n",
              "H2O_cluster_version_age:    6 days\n",
              "H2O_cluster_name:           H2O_from_python_unknownUser_o2w6gv\n",
              "H2O_cluster_total_nodes:    1\n",
              "H2O_cluster_free_memory:    6 Gb\n",
              "H2O_cluster_total_cores:    2\n",
              "H2O_cluster_allowed_cores:  2\n",
              "H2O_cluster_status:         locked, healthy\n",
              "H2O_connection_url:         http://127.0.0.1:54321\n",
              "H2O_connection_proxy:       {\"http\": null, \"https\": null}\n",
              "H2O_internal_security:      False\n",
              "Python_version:             3.7.13 final\n",
              "--------------------------  ----------------------------------"
            ],
            "text/html": [
              "<div style=\"overflow:auto\"><table style=\"width:50%\"><tr><td>H2O_cluster_uptime:</td>\n",
              "<td>04 secs</td></tr>\n",
              "<tr><td>H2O_cluster_timezone:</td>\n",
              "<td>Etc/UTC</td></tr>\n",
              "<tr><td>H2O_data_parsing_timezone:</td>\n",
              "<td>UTC</td></tr>\n",
              "<tr><td>H2O_cluster_version:</td>\n",
              "<td>3.36.1.2</td></tr>\n",
              "<tr><td>H2O_cluster_version_age:</td>\n",
              "<td>6 days </td></tr>\n",
              "<tr><td>H2O_cluster_name:</td>\n",
              "<td>H2O_from_python_unknownUser_o2w6gv</td></tr>\n",
              "<tr><td>H2O_cluster_total_nodes:</td>\n",
              "<td>1</td></tr>\n",
              "<tr><td>H2O_cluster_free_memory:</td>\n",
              "<td>6 Gb</td></tr>\n",
              "<tr><td>H2O_cluster_total_cores:</td>\n",
              "<td>2</td></tr>\n",
              "<tr><td>H2O_cluster_allowed_cores:</td>\n",
              "<td>2</td></tr>\n",
              "<tr><td>H2O_cluster_status:</td>\n",
              "<td>locked, healthy</td></tr>\n",
              "<tr><td>H2O_connection_url:</td>\n",
              "<td>http://127.0.0.1:54321</td></tr>\n",
              "<tr><td>H2O_connection_proxy:</td>\n",
              "<td>{\"http\": null, \"https\": null}</td></tr>\n",
              "<tr><td>H2O_internal_security:</td>\n",
              "<td>False</td></tr>\n",
              "<tr><td>Python_version:</td>\n",
              "<td>3.7.13 final</td></tr></table></div>"
            ]
          },
          "metadata": {}
        }
      ],
      "source": [
        "import datetime                                               # for timestamp \n",
        "import h2o                                                    # base h2o package for python\n",
        "from h2o.estimators.glm import H2OGeneralizedLinearEstimator  # h2o elastic net models class\n",
        "from h2o.grid.grid_search import H2OGridSearch                # grid search class and syntax for h2o models\n",
        "from interpret import show                                    # basic visualizations from interpret package\n",
        "from interpret.glassbox import ExplainableBoostingClassifier  # interpret ebm class\n",
        "from interpret.perf import ROC                                # ROC measure for ebm\n",
        "import itertools                                              # for cartesian product of parameters\n",
        "import matplotlib.pyplot as plt                               # basic plotting\n",
        "import numpy as np                                            # for basic array manipulation                            \n",
        "import pandas as pd                                           # for dataframe manipulation\n",
        "import seaborn as sns                                         # slightly better plotting  \n",
        "import time                                                   # for timers\n",
        "import xgboost as xgb                                         # base xgboost package for python\n",
        "\n",
        "# set numpy random seed for better reproducibility\n",
        "SEED = 12345 \n",
        "\n",
        "# set number of threads\n",
        "NTHREAD = 4\n",
        "\n",
        "h2o.init(max_mem_size='6G', nthreads=NTHREAD) # start h2o with plenty of memory and threads\n",
        "h2o.remove_all()                              # clears h2o memory\n",
        "h2o.no_progress()                             # turn off h2o progress indicators    "
      ]
    },
    {
      "cell_type": "markdown",
      "id": "152e8474",
      "metadata": {
        "id": "152e8474"
      },
      "source": [
        "#### Start global timer"
      ]
    },
    {
      "cell_type": "code",
      "execution_count": 6,
      "id": "110ae3e4",
      "metadata": {
        "id": "110ae3e4"
      },
      "outputs": [],
      "source": [
        "tic = time.time()"
      ]
    },
    {
      "cell_type": "markdown",
      "id": "e36c81fd",
      "metadata": {
        "id": "e36c81fd"
      },
      "source": [
        "#### Import data"
      ]
    },
    {
      "cell_type": "code",
      "execution_count": 7,
      "id": "36898e3f",
      "metadata": {
        "colab": {
          "resources": {
            "http://localhost:8080/nbextensions/google.colab/files.js": {
              "data": "Ly8gQ29weXJpZ2h0IDIwMTcgR29vZ2xlIExMQwovLwovLyBMaWNlbnNlZCB1bmRlciB0aGUgQXBhY2hlIExpY2Vuc2UsIFZlcnNpb24gMi4wICh0aGUgIkxpY2Vuc2UiKTsKLy8geW91IG1heSBub3QgdXNlIHRoaXMgZmlsZSBleGNlcHQgaW4gY29tcGxpYW5jZSB3aXRoIHRoZSBMaWNlbnNlLgovLyBZb3UgbWF5IG9idGFpbiBhIGNvcHkgb2YgdGhlIExpY2Vuc2UgYXQKLy8KLy8gICAgICBodHRwOi8vd3d3LmFwYWNoZS5vcmcvbGljZW5zZXMvTElDRU5TRS0yLjAKLy8KLy8gVW5sZXNzIHJlcXVpcmVkIGJ5IGFwcGxpY2FibGUgbGF3IG9yIGFncmVlZCB0byBpbiB3cml0aW5nLCBzb2Z0d2FyZQovLyBkaXN0cmlidXRlZCB1bmRlciB0aGUgTGljZW5zZSBpcyBkaXN0cmlidXRlZCBvbiBhbiAiQVMgSVMiIEJBU0lTLAovLyBXSVRIT1VUIFdBUlJBTlRJRVMgT1IgQ09ORElUSU9OUyBPRiBBTlkgS0lORCwgZWl0aGVyIGV4cHJlc3Mgb3IgaW1wbGllZC4KLy8gU2VlIHRoZSBMaWNlbnNlIGZvciB0aGUgc3BlY2lmaWMgbGFuZ3VhZ2UgZ292ZXJuaW5nIHBlcm1pc3Npb25zIGFuZAovLyBsaW1pdGF0aW9ucyB1bmRlciB0aGUgTGljZW5zZS4KCi8qKgogKiBAZmlsZW92ZXJ2aWV3IEhlbHBlcnMgZm9yIGdvb2dsZS5jb2xhYiBQeXRob24gbW9kdWxlLgogKi8KKGZ1bmN0aW9uKHNjb3BlKSB7CmZ1bmN0aW9uIHNwYW4odGV4dCwgc3R5bGVBdHRyaWJ1dGVzID0ge30pIHsKICBjb25zdCBlbGVtZW50ID0gZG9jdW1lbnQuY3JlYXRlRWxlbWVudCgnc3BhbicpOwogIGVsZW1lbnQudGV4dENvbnRlbnQgPSB0ZXh0OwogIGZvciAoY29uc3Qga2V5IG9mIE9iamVjdC5rZXlzKHN0eWxlQXR0cmlidXRlcykpIHsKICAgIGVsZW1lbnQuc3R5bGVba2V5XSA9IHN0eWxlQXR0cmlidXRlc1trZXldOwogIH0KICByZXR1cm4gZWxlbWVudDsKfQoKLy8gTWF4IG51bWJlciBvZiBieXRlcyB3aGljaCB3aWxsIGJlIHVwbG9hZGVkIGF0IGEgdGltZS4KY29uc3QgTUFYX1BBWUxPQURfU0laRSA9IDEwMCAqIDEwMjQ7CgpmdW5jdGlvbiBfdXBsb2FkRmlsZXMoaW5wdXRJZCwgb3V0cHV0SWQpIHsKICBjb25zdCBzdGVwcyA9IHVwbG9hZEZpbGVzU3RlcChpbnB1dElkLCBvdXRwdXRJZCk7CiAgY29uc3Qgb3V0cHV0RWxlbWVudCA9IGRvY3VtZW50LmdldEVsZW1lbnRCeUlkKG91dHB1dElkKTsKICAvLyBDYWNoZSBzdGVwcyBvbiB0aGUgb3V0cHV0RWxlbWVudCB0byBtYWtlIGl0IGF2YWlsYWJsZSBmb3IgdGhlIG5leHQgY2FsbAogIC8vIHRvIHVwbG9hZEZpbGVzQ29udGludWUgZnJvbSBQeXRob24uCiAgb3V0cHV0RWxlbWVudC5zdGVwcyA9IHN0ZXBzOwoKICByZXR1cm4gX3VwbG9hZEZpbGVzQ29udGludWUob3V0cHV0SWQpOwp9CgovLyBUaGlzIGlzIHJvdWdobHkgYW4gYXN5bmMgZ2VuZXJhdG9yIChub3Qgc3VwcG9ydGVkIGluIHRoZSBicm93c2VyIHlldCksCi8vIHdoZXJlIHRoZXJlIGFyZSBtdWx0aXBsZSBhc3luY2hyb25vdXMgc3RlcHMgYW5kIHRoZSBQeXRob24gc2lkZSBpcyBnb2luZwovLyB0byBwb2xsIGZvciBjb21wbGV0aW9uIG9mIGVhY2ggc3RlcC4KLy8gVGhpcyB1c2VzIGEgUHJvbWlzZSB0byBibG9jayB0aGUgcHl0aG9uIHNpZGUgb24gY29tcGxldGlvbiBvZiBlYWNoIHN0ZXAsCi8vIHRoZW4gcGFzc2VzIHRoZSByZXN1bHQgb2YgdGhlIHByZXZpb3VzIHN0ZXAgYXMgdGhlIGlucHV0IHRvIHRoZSBuZXh0IHN0ZXAuCmZ1bmN0aW9uIF91cGxvYWRGaWxlc0NvbnRpbnVlKG91dHB1dElkKSB7CiAgY29uc3Qgb3V0cHV0RWxlbWVudCA9IGRvY3VtZW50LmdldEVsZW1lbnRCeUlkKG91dHB1dElkKTsKICBjb25zdCBzdGVwcyA9IG91dHB1dEVsZW1lbnQuc3RlcHM7CgogIGNvbnN0IG5leHQgPSBzdGVwcy5uZXh0KG91dHB1dEVsZW1lbnQubGFzdFByb21pc2VWYWx1ZSk7CiAgcmV0dXJuIFByb21pc2UucmVzb2x2ZShuZXh0LnZhbHVlLnByb21pc2UpLnRoZW4oKHZhbHVlKSA9PiB7CiAgICAvLyBDYWNoZSB0aGUgbGFzdCBwcm9taXNlIHZhbHVlIHRvIG1ha2UgaXQgYXZhaWxhYmxlIHRvIHRoZSBuZXh0CiAgICAvLyBzdGVwIG9mIHRoZSBnZW5lcmF0b3IuCiAgICBvdXRwdXRFbGVtZW50Lmxhc3RQcm9taXNlVmFsdWUgPSB2YWx1ZTsKICAgIHJldHVybiBuZXh0LnZhbHVlLnJlc3BvbnNlOwogIH0pOwp9CgovKioKICogR2VuZXJhdG9yIGZ1bmN0aW9uIHdoaWNoIGlzIGNhbGxlZCBiZXR3ZWVuIGVhY2ggYXN5bmMgc3RlcCBvZiB0aGUgdXBsb2FkCiAqIHByb2Nlc3MuCiAqIEBwYXJhbSB7c3RyaW5nfSBpbnB1dElkIEVsZW1lbnQgSUQgb2YgdGhlIGlucHV0IGZpbGUgcGlja2VyIGVsZW1lbnQuCiAqIEBwYXJhbSB7c3RyaW5nfSBvdXRwdXRJZCBFbGVtZW50IElEIG9mIHRoZSBvdXRwdXQgZGlzcGxheS4KICogQHJldHVybiB7IUl0ZXJhYmxlPCFPYmplY3Q+fSBJdGVyYWJsZSBvZiBuZXh0IHN0ZXBzLgogKi8KZnVuY3Rpb24qIHVwbG9hZEZpbGVzU3RlcChpbnB1dElkLCBvdXRwdXRJZCkgewogIGNvbnN0IGlucHV0RWxlbWVudCA9IGRvY3VtZW50LmdldEVsZW1lbnRCeUlkKGlucHV0SWQpOwogIGlucHV0RWxlbWVudC5kaXNhYmxlZCA9IGZhbHNlOwoKICBjb25zdCBvdXRwdXRFbGVtZW50ID0gZG9jdW1lbnQuZ2V0RWxlbWVudEJ5SWQob3V0cHV0SWQpOwogIG91dHB1dEVsZW1lbnQuaW5uZXJIVE1MID0gJyc7CgogIGNvbnN0IHBpY2tlZFByb21pc2UgPSBuZXcgUHJvbWlzZSgocmVzb2x2ZSkgPT4gewogICAgaW5wdXRFbGVtZW50LmFkZEV2ZW50TGlzdGVuZXIoJ2NoYW5nZScsIChlKSA9PiB7CiAgICAgIHJlc29sdmUoZS50YXJnZXQuZmlsZXMpOwogICAgfSk7CiAgfSk7CgogIGNvbnN0IGNhbmNlbCA9IGRvY3VtZW50LmNyZWF0ZUVsZW1lbnQoJ2J1dHRvbicpOwogIGlucHV0RWxlbWVudC5wYXJlbnRFbGVtZW50LmFwcGVuZENoaWxkKGNhbmNlbCk7CiAgY2FuY2VsLnRleHRDb250ZW50ID0gJ0NhbmNlbCB1cGxvYWQnOwogIGNvbnN0IGNhbmNlbFByb21pc2UgPSBuZXcgUHJvbWlzZSgocmVzb2x2ZSkgPT4gewogICAgY2FuY2VsLm9uY2xpY2sgPSAoKSA9PiB7CiAgICAgIHJlc29sdmUobnVsbCk7CiAgICB9OwogIH0pOwoKICAvLyBXYWl0IGZvciB0aGUgdXNlciB0byBwaWNrIHRoZSBmaWxlcy4KICBjb25zdCBmaWxlcyA9IHlpZWxkIHsKICAgIHByb21pc2U6IFByb21pc2UucmFjZShbcGlja2VkUHJvbWlzZSwgY2FuY2VsUHJvbWlzZV0pLAogICAgcmVzcG9uc2U6IHsKICAgICAgYWN0aW9uOiAnc3RhcnRpbmcnLAogICAgfQogIH07CgogIGNhbmNlbC5yZW1vdmUoKTsKCiAgLy8gRGlzYWJsZSB0aGUgaW5wdXQgZWxlbWVudCBzaW5jZSBmdXJ0aGVyIHBpY2tzIGFyZSBub3QgYWxsb3dlZC4KICBpbnB1dEVsZW1lbnQuZGlzYWJsZWQgPSB0cnVlOwoKICBpZiAoIWZpbGVzKSB7CiAgICByZXR1cm4gewogICAgICByZXNwb25zZTogewogICAgICAgIGFjdGlvbjogJ2NvbXBsZXRlJywKICAgICAgfQogICAgfTsKICB9CgogIGZvciAoY29uc3QgZmlsZSBvZiBmaWxlcykgewogICAgY29uc3QgbGkgPSBkb2N1bWVudC5jcmVhdGVFbGVtZW50KCdsaScpOwogICAgbGkuYXBwZW5kKHNwYW4oZmlsZS5uYW1lLCB7Zm9udFdlaWdodDogJ2JvbGQnfSkpOwogICAgbGkuYXBwZW5kKHNwYW4oCiAgICAgICAgYCgke2ZpbGUudHlwZSB8fCAnbi9hJ30pIC0gJHtmaWxlLnNpemV9IGJ5dGVzLCBgICsKICAgICAgICBgbGFzdCBtb2RpZmllZDogJHsKICAgICAgICAgICAgZmlsZS5sYXN0TW9kaWZpZWREYXRlID8gZmlsZS5sYXN0TW9kaWZpZWREYXRlLnRvTG9jYWxlRGF0ZVN0cmluZygpIDoKICAgICAgICAgICAgICAgICAgICAgICAgICAgICAgICAgICAgJ24vYSd9IC0gYCkpOwogICAgY29uc3QgcGVyY2VudCA9IHNwYW4oJzAlIGRvbmUnKTsKICAgIGxpLmFwcGVuZENoaWxkKHBlcmNlbnQpOwoKICAgIG91dHB1dEVsZW1lbnQuYXBwZW5kQ2hpbGQobGkpOwoKICAgIGNvbnN0IGZpbGVEYXRhUHJvbWlzZSA9IG5ldyBQcm9taXNlKChyZXNvbHZlKSA9PiB7CiAgICAgIGNvbnN0IHJlYWRlciA9IG5ldyBGaWxlUmVhZGVyKCk7CiAgICAgIHJlYWRlci5vbmxvYWQgPSAoZSkgPT4gewogICAgICAgIHJlc29sdmUoZS50YXJnZXQucmVzdWx0KTsKICAgICAgfTsKICAgICAgcmVhZGVyLnJlYWRBc0FycmF5QnVmZmVyKGZpbGUpOwogICAgfSk7CiAgICAvLyBXYWl0IGZvciB0aGUgZGF0YSB0byBiZSByZWFkeS4KICAgIGxldCBmaWxlRGF0YSA9IHlpZWxkIHsKICAgICAgcHJvbWlzZTogZmlsZURhdGFQcm9taXNlLAogICAgICByZXNwb25zZTogewogICAgICAgIGFjdGlvbjogJ2NvbnRpbnVlJywKICAgICAgfQogICAgfTsKCiAgICAvLyBVc2UgYSBjaHVua2VkIHNlbmRpbmcgdG8gYXZvaWQgbWVzc2FnZSBzaXplIGxpbWl0cy4gU2VlIGIvNjIxMTU2NjAuCiAgICBsZXQgcG9zaXRpb24gPSAwOwogICAgZG8gewogICAgICBjb25zdCBsZW5ndGggPSBNYXRoLm1pbihmaWxlRGF0YS5ieXRlTGVuZ3RoIC0gcG9zaXRpb24sIE1BWF9QQVlMT0FEX1NJWkUpOwogICAgICBjb25zdCBjaHVuayA9IG5ldyBVaW50OEFycmF5KGZpbGVEYXRhLCBwb3NpdGlvbiwgbGVuZ3RoKTsKICAgICAgcG9zaXRpb24gKz0gbGVuZ3RoOwoKICAgICAgY29uc3QgYmFzZTY0ID0gYnRvYShTdHJpbmcuZnJvbUNoYXJDb2RlLmFwcGx5KG51bGwsIGNodW5rKSk7CiAgICAgIHlpZWxkIHsKICAgICAgICByZXNwb25zZTogewogICAgICAgICAgYWN0aW9uOiAnYXBwZW5kJywKICAgICAgICAgIGZpbGU6IGZpbGUubmFtZSwKICAgICAgICAgIGRhdGE6IGJhc2U2NCwKICAgICAgICB9LAogICAgICB9OwoKICAgICAgbGV0IHBlcmNlbnREb25lID0gZmlsZURhdGEuYnl0ZUxlbmd0aCA9PT0gMCA/CiAgICAgICAgICAxMDAgOgogICAgICAgICAgTWF0aC5yb3VuZCgocG9zaXRpb24gLyBmaWxlRGF0YS5ieXRlTGVuZ3RoKSAqIDEwMCk7CiAgICAgIHBlcmNlbnQudGV4dENvbnRlbnQgPSBgJHtwZXJjZW50RG9uZX0lIGRvbmVgOwoKICAgIH0gd2hpbGUgKHBvc2l0aW9uIDwgZmlsZURhdGEuYnl0ZUxlbmd0aCk7CiAgfQoKICAvLyBBbGwgZG9uZS4KICB5aWVsZCB7CiAgICByZXNwb25zZTogewogICAgICBhY3Rpb246ICdjb21wbGV0ZScsCiAgICB9CiAgfTsKfQoKc2NvcGUuZ29vZ2xlID0gc2NvcGUuZ29vZ2xlIHx8IHt9OwpzY29wZS5nb29nbGUuY29sYWIgPSBzY29wZS5nb29nbGUuY29sYWIgfHwge307CnNjb3BlLmdvb2dsZS5jb2xhYi5fZmlsZXMgPSB7CiAgX3VwbG9hZEZpbGVzLAogIF91cGxvYWRGaWxlc0NvbnRpbnVlLAp9Owp9KShzZWxmKTsK",
              "ok": true,
              "headers": [
                [
                  "content-type",
                  "application/javascript"
                ]
              ],
              "status": 200,
              "status_text": "OK"
            }
          },
          "base_uri": "https://localhost:8080/",
          "height": 113
        },
        "id": "36898e3f",
        "outputId": "9ae409fa-815e-4d8c-8077-355f09c7ae18"
      },
      "outputs": [
        {
          "output_type": "display_data",
          "data": {
            "text/plain": [
              "<IPython.core.display.HTML object>"
            ],
            "text/html": [
              "\n",
              "     <input type=\"file\" id=\"files-be1f37e2-a1e4-43b3-87ac-3932740233be\" name=\"files[]\" multiple disabled\n",
              "        style=\"border:none\" />\n",
              "     <output id=\"result-be1f37e2-a1e4-43b3-87ac-3932740233be\">\n",
              "      Upload widget is only available when the cell has been executed in the\n",
              "      current browser session. Please rerun this cell to enable.\n",
              "      </output>\n",
              "      <script src=\"/nbextensions/google.colab/files.js\"></script> "
            ]
          },
          "metadata": {}
        },
        {
          "output_type": "stream",
          "name": "stdout",
          "text": [
            "Saving hmda_test_preprocessed.csv to hmda_test_preprocessed.csv\n",
            "Saving hmda_train_preprocessed.csv to hmda_train_preprocessed.csv\n"
          ]
        }
      ],
      "source": [
        "uploaded = files.upload()"
      ]
    },
    {
      "cell_type": "code",
      "source": [
        "data = pd.read_csv(io.StringIO(uploaded['hmda_train_preprocessed.csv'].decode('utf-8')))"
      ],
      "metadata": {
        "id": "eP8_s3eUxHLQ"
      },
      "id": "eP8_s3eUxHLQ",
      "execution_count": 8,
      "outputs": []
    },
    {
      "cell_type": "markdown",
      "id": "02f780ca",
      "metadata": {
        "id": "02f780ca"
      },
      "source": [
        "#### Assign basic modeling roles"
      ]
    },
    {
      "cell_type": "code",
      "execution_count": 9,
      "id": "374364cd",
      "metadata": {
        "id": "374364cd"
      },
      "outputs": [],
      "source": [
        "y_name = 'high_priced'\n",
        "x_names = ['term_360', 'conforming', 'debt_to_income_ratio_missing', 'loan_amount_std', 'loan_to_value_ratio_std', 'no_intro_rate_period_std',\n",
        "           'intro_rate_period_std', 'property_value_std', 'income_std', 'debt_to_income_ratio_std']"
      ]
    },
    {
      "cell_type": "markdown",
      "id": "2bd91ac7",
      "metadata": {
        "id": "2bd91ac7"
      },
      "source": [
        "## Fit interpretable models"
      ]
    },
    {
      "cell_type": "markdown",
      "id": "b63c7465",
      "metadata": {
        "id": "b63c7465"
      },
      "source": [
        "#### Split data into train and validation partitions "
      ]
    },
    {
      "cell_type": "code",
      "execution_count": 10,
      "id": "d82faabc",
      "metadata": {
        "colab": {
          "base_uri": "https://localhost:8080/"
        },
        "id": "d82faabc",
        "outputId": "c956b013-4c6b-46b8-d27c-91c76ef5f1e1"
      },
      "outputs": [
        {
          "output_type": "stream",
          "name": "stdout",
          "text": [
            "Train data rows = 112253, columns = 23\n",
            "Validation data rows = 48085, columns = 23\n"
          ]
        }
      ],
      "source": [
        "np.random.seed(SEED) # preserve exact reproducibility for this cell\n",
        "\n",
        "split_ratio = 0.7 # 70%/30% train/test split\n",
        "\n",
        "# execute split\n",
        "split = np.random.rand(len(data)) < split_ratio\n",
        "train = data[split]\n",
        "valid = data[~split]\n",
        "\n",
        "# summarize split\n",
        "print('Train data rows = %d, columns = %d' % (train.shape[0], train.shape[1]))\n",
        "print('Validation data rows = %d, columns = %d' % (valid.shape[0], valid.shape[1]))\n",
        "\n",
        "# benchmark - Train data rows = 112253, columns = 23\n",
        "# benchmark - Validation data rows = 48085, columns = 23"
      ]
    },
    {
      "cell_type": "markdown",
      "id": "c1323de6",
      "metadata": {
        "id": "c1323de6"
      },
      "source": [
        "### Elastic net"
      ]
    },
    {
      "cell_type": "markdown",
      "id": "b37508ef",
      "metadata": {
        "id": "b37508ef"
      },
      "source": [
        "#### Define wrapper function for grid search"
      ]
    },
    {
      "cell_type": "code",
      "execution_count": 11,
      "id": "e65a8102",
      "metadata": {
        "id": "e65a8102"
      },
      "outputs": [],
      "source": [
        "def glm_grid(x_names, y_name, htrain, hvalid, seed):\n",
        "\n",
        "    \"\"\" Wrapper function for penalized GLM with alpha and lambda search.\n",
        "\n",
        "    :param x_names: Names of input features.\n",
        "    :param y_name: Name of target feature.\n",
        "    :param htrain: Training H2OFrame.\n",
        "    :param hvalid: Validation H2OFrame.\n",
        "    :param seed: Random seed for better reproducibility.\n",
        "    :return: Best H2OGeneralizedLinearEstimator.\n",
        "    \"\"\"\n",
        "\n",
        "    alpha_opts = [0.01, 0.25, 0.5, 0.99]  # always keep some L2\n",
        "\n",
        "    # define search criteria\n",
        "    # i.e., over alpha\n",
        "    # lamda search handled by lambda_search param below\n",
        "    hyper_parameters = {'alpha': alpha_opts}\n",
        "\n",
        "    # initialize grid search\n",
        "    grid = H2OGridSearch(\n",
        "        H2OGeneralizedLinearEstimator(family='binomial',\n",
        "                                      lambda_search=True,\n",
        "                                      seed=seed), # seed for grid search\n",
        "        hyper_params=hyper_parameters)\n",
        "\n",
        "    # execute training w/ grid search\n",
        "    grid.train(y=y_name,\n",
        "               x=x_names,\n",
        "               training_frame=htrain,\n",
        "               validation_frame=hvalid,\n",
        "               seed=seed) # seed for training\n",
        "\n",
        "    # select best model from grid search\n",
        "    best_model = grid.get_grid()[0]\n",
        "    del grid\n",
        "\n",
        "    return best_model"
      ]
    },
    {
      "cell_type": "markdown",
      "id": "9927a1f2",
      "metadata": {
        "id": "9927a1f2"
      },
      "source": [
        "#### Fit elastic net with grid search"
      ]
    },
    {
      "cell_type": "code",
      "execution_count": 12,
      "id": "46a30359",
      "metadata": {
        "colab": {
          "base_uri": "https://localhost:8080/"
        },
        "id": "46a30359",
        "outputId": "3ca4ab6b-ce81-4202-acc5-29851e064fa8"
      },
      "outputs": [
        {
          "output_type": "stream",
          "name": "stderr",
          "text": [
            "/usr/local/lib/python3.7/dist-packages/h2o/grid/grid_search.py:427: UserWarning: Adding alpha array to hyperparameter runs slower with gridsearch. This is due to the fact that the algo has to run initialization for every alpha value. Setting the alpha array as a model parameter will skip the initialization and run faster overall.\n",
            "  warnings.warn(w_message)\n"
          ]
        },
        {
          "output_type": "stream",
          "name": "stdout",
          "text": [
            "Elastic net GLM training completed in 35.10 s.\n"
          ]
        }
      ],
      "source": [
        "# start local timer\n",
        "glm_tic = time.time()\n",
        "\n",
        "# convert data to h2o frames\n",
        "htrain = h2o.H2OFrame(train)\n",
        "hvalid = h2o.H2OFrame(valid)\n",
        "\n",
        "# train with grid search\n",
        "best_glm = glm_grid(x_names, y_name, htrain, hvalid, SEED)\n",
        "\n",
        "# end local timer\n",
        "glm_toc = time.time() - glm_tic\n",
        "print('Elastic net GLM training completed in %.2f s.' % (glm_toc))"
      ]
    },
    {
      "cell_type": "markdown",
      "id": "21e37f0a",
      "metadata": {
        "id": "21e37f0a"
      },
      "source": [
        "#### Basic AUC assessment"
      ]
    },
    {
      "cell_type": "code",
      "execution_count": 13,
      "id": "4a08a632",
      "metadata": {
        "colab": {
          "base_uri": "https://localhost:8080/"
        },
        "id": "4a08a632",
        "outputId": "05bff0b4-a1fa-4674-88dc-b0f5e73581e9"
      },
      "outputs": [
        {
          "output_type": "stream",
          "name": "stdout",
          "text": [
            "Validation AUC: 0.7538.\n"
          ]
        }
      ],
      "source": [
        "print('Validation AUC: %.4f.' % best_glm.auc(valid=True))"
      ]
    },
    {
      "cell_type": "markdown",
      "id": "39360042",
      "metadata": {
        "id": "39360042"
      },
      "source": [
        "#### Score validation data with model"
      ]
    },
    {
      "cell_type": "code",
      "execution_count": 14,
      "id": "7741137e",
      "metadata": {
        "colab": {
          "base_uri": "https://localhost:8080/",
          "height": 300
        },
        "id": "7741137e",
        "outputId": "870f5bca-9282-4485-9b8a-aa3d1c04ae47"
      },
      "outputs": [
        {
          "output_type": "execute_result",
          "data": {
            "text/plain": [
              "   row_id  black  asian  white  amind  hipac  hispanic  non_hispanic  male  \\\n",
              "0       0    NaN    NaN    NaN    NaN    NaN       NaN           NaN   1.0   \n",
              "1       6    0.0    0.0    1.0    0.0    0.0       0.0           1.0   0.0   \n",
              "2       8    0.0    0.0    1.0    0.0    0.0       0.0           1.0   NaN   \n",
              "3      10    0.0    0.0    1.0    0.0    0.0       0.0           1.0   NaN   \n",
              "4      11    0.0    0.0    1.0    0.0    0.0       1.0           0.0   NaN   \n",
              "\n",
              "   female  ...  debt_to_income_ratio_missing  loan_amount_std  \\\n",
              "0     0.0  ...                             0        -0.514393   \n",
              "1     1.0  ...                             0        -0.426448   \n",
              "2     NaN  ...                             0         0.277109   \n",
              "3     NaN  ...                             0        -0.382476   \n",
              "4     NaN  ...                             0         0.101220   \n",
              "\n",
              "   loan_to_value_ratio_std  no_intro_rate_period_std  intro_rate_period_std  \\\n",
              "0                 0.333922                  0.244394              -0.215304   \n",
              "1                 0.355249                  0.244394              -0.215304   \n",
              "2                 0.142995                  0.244394              -0.215304   \n",
              "3                -0.240432                  0.244394              -0.215304   \n",
              "4                -0.266529                  0.244394              -0.215304   \n",
              "\n",
              "   property_value_std  income_std  debt_to_income_ratio_std  high_priced  \\\n",
              "0           -0.535932   -0.040307                  0.854601            0   \n",
              "1           -0.474263   -0.020904                  1.037419            0   \n",
              "2            0.111598   -0.019865                  0.031916            0   \n",
              "3           -0.320089   -0.028181                  0.946010            0   \n",
              "4            0.111598    0.016515                 -1.156406            0   \n",
              "\n",
              "       phat  \n",
              "0  0.158336  \n",
              "1  0.159289  \n",
              "2  0.070368  \n",
              "3  0.124670  \n",
              "4  0.045170  \n",
              "\n",
              "[5 rows x 24 columns]"
            ],
            "text/html": [
              "\n",
              "  <div id=\"df-4bcd42f5-890c-48a2-a972-7d2558c2297d\">\n",
              "    <div class=\"colab-df-container\">\n",
              "      <div>\n",
              "<style scoped>\n",
              "    .dataframe tbody tr th:only-of-type {\n",
              "        vertical-align: middle;\n",
              "    }\n",
              "\n",
              "    .dataframe tbody tr th {\n",
              "        vertical-align: top;\n",
              "    }\n",
              "\n",
              "    .dataframe thead th {\n",
              "        text-align: right;\n",
              "    }\n",
              "</style>\n",
              "<table border=\"1\" class=\"dataframe\">\n",
              "  <thead>\n",
              "    <tr style=\"text-align: right;\">\n",
              "      <th></th>\n",
              "      <th>row_id</th>\n",
              "      <th>black</th>\n",
              "      <th>asian</th>\n",
              "      <th>white</th>\n",
              "      <th>amind</th>\n",
              "      <th>hipac</th>\n",
              "      <th>hispanic</th>\n",
              "      <th>non_hispanic</th>\n",
              "      <th>male</th>\n",
              "      <th>female</th>\n",
              "      <th>...</th>\n",
              "      <th>debt_to_income_ratio_missing</th>\n",
              "      <th>loan_amount_std</th>\n",
              "      <th>loan_to_value_ratio_std</th>\n",
              "      <th>no_intro_rate_period_std</th>\n",
              "      <th>intro_rate_period_std</th>\n",
              "      <th>property_value_std</th>\n",
              "      <th>income_std</th>\n",
              "      <th>debt_to_income_ratio_std</th>\n",
              "      <th>high_priced</th>\n",
              "      <th>phat</th>\n",
              "    </tr>\n",
              "  </thead>\n",
              "  <tbody>\n",
              "    <tr>\n",
              "      <th>0</th>\n",
              "      <td>0</td>\n",
              "      <td>NaN</td>\n",
              "      <td>NaN</td>\n",
              "      <td>NaN</td>\n",
              "      <td>NaN</td>\n",
              "      <td>NaN</td>\n",
              "      <td>NaN</td>\n",
              "      <td>NaN</td>\n",
              "      <td>1.0</td>\n",
              "      <td>0.0</td>\n",
              "      <td>...</td>\n",
              "      <td>0</td>\n",
              "      <td>-0.514393</td>\n",
              "      <td>0.333922</td>\n",
              "      <td>0.244394</td>\n",
              "      <td>-0.215304</td>\n",
              "      <td>-0.535932</td>\n",
              "      <td>-0.040307</td>\n",
              "      <td>0.854601</td>\n",
              "      <td>0</td>\n",
              "      <td>0.158336</td>\n",
              "    </tr>\n",
              "    <tr>\n",
              "      <th>1</th>\n",
              "      <td>6</td>\n",
              "      <td>0.0</td>\n",
              "      <td>0.0</td>\n",
              "      <td>1.0</td>\n",
              "      <td>0.0</td>\n",
              "      <td>0.0</td>\n",
              "      <td>0.0</td>\n",
              "      <td>1.0</td>\n",
              "      <td>0.0</td>\n",
              "      <td>1.0</td>\n",
              "      <td>...</td>\n",
              "      <td>0</td>\n",
              "      <td>-0.426448</td>\n",
              "      <td>0.355249</td>\n",
              "      <td>0.244394</td>\n",
              "      <td>-0.215304</td>\n",
              "      <td>-0.474263</td>\n",
              "      <td>-0.020904</td>\n",
              "      <td>1.037419</td>\n",
              "      <td>0</td>\n",
              "      <td>0.159289</td>\n",
              "    </tr>\n",
              "    <tr>\n",
              "      <th>2</th>\n",
              "      <td>8</td>\n",
              "      <td>0.0</td>\n",
              "      <td>0.0</td>\n",
              "      <td>1.0</td>\n",
              "      <td>0.0</td>\n",
              "      <td>0.0</td>\n",
              "      <td>0.0</td>\n",
              "      <td>1.0</td>\n",
              "      <td>NaN</td>\n",
              "      <td>NaN</td>\n",
              "      <td>...</td>\n",
              "      <td>0</td>\n",
              "      <td>0.277109</td>\n",
              "      <td>0.142995</td>\n",
              "      <td>0.244394</td>\n",
              "      <td>-0.215304</td>\n",
              "      <td>0.111598</td>\n",
              "      <td>-0.019865</td>\n",
              "      <td>0.031916</td>\n",
              "      <td>0</td>\n",
              "      <td>0.070368</td>\n",
              "    </tr>\n",
              "    <tr>\n",
              "      <th>3</th>\n",
              "      <td>10</td>\n",
              "      <td>0.0</td>\n",
              "      <td>0.0</td>\n",
              "      <td>1.0</td>\n",
              "      <td>0.0</td>\n",
              "      <td>0.0</td>\n",
              "      <td>0.0</td>\n",
              "      <td>1.0</td>\n",
              "      <td>NaN</td>\n",
              "      <td>NaN</td>\n",
              "      <td>...</td>\n",
              "      <td>0</td>\n",
              "      <td>-0.382476</td>\n",
              "      <td>-0.240432</td>\n",
              "      <td>0.244394</td>\n",
              "      <td>-0.215304</td>\n",
              "      <td>-0.320089</td>\n",
              "      <td>-0.028181</td>\n",
              "      <td>0.946010</td>\n",
              "      <td>0</td>\n",
              "      <td>0.124670</td>\n",
              "    </tr>\n",
              "    <tr>\n",
              "      <th>4</th>\n",
              "      <td>11</td>\n",
              "      <td>0.0</td>\n",
              "      <td>0.0</td>\n",
              "      <td>1.0</td>\n",
              "      <td>0.0</td>\n",
              "      <td>0.0</td>\n",
              "      <td>1.0</td>\n",
              "      <td>0.0</td>\n",
              "      <td>NaN</td>\n",
              "      <td>NaN</td>\n",
              "      <td>...</td>\n",
              "      <td>0</td>\n",
              "      <td>0.101220</td>\n",
              "      <td>-0.266529</td>\n",
              "      <td>0.244394</td>\n",
              "      <td>-0.215304</td>\n",
              "      <td>0.111598</td>\n",
              "      <td>0.016515</td>\n",
              "      <td>-1.156406</td>\n",
              "      <td>0</td>\n",
              "      <td>0.045170</td>\n",
              "    </tr>\n",
              "  </tbody>\n",
              "</table>\n",
              "<p>5 rows × 24 columns</p>\n",
              "</div>\n",
              "      <button class=\"colab-df-convert\" onclick=\"convertToInteractive('df-4bcd42f5-890c-48a2-a972-7d2558c2297d')\"\n",
              "              title=\"Convert this dataframe to an interactive table.\"\n",
              "              style=\"display:none;\">\n",
              "        \n",
              "  <svg xmlns=\"http://www.w3.org/2000/svg\" height=\"24px\"viewBox=\"0 0 24 24\"\n",
              "       width=\"24px\">\n",
              "    <path d=\"M0 0h24v24H0V0z\" fill=\"none\"/>\n",
              "    <path d=\"M18.56 5.44l.94 2.06.94-2.06 2.06-.94-2.06-.94-.94-2.06-.94 2.06-2.06.94zm-11 1L8.5 8.5l.94-2.06 2.06-.94-2.06-.94L8.5 2.5l-.94 2.06-2.06.94zm10 10l.94 2.06.94-2.06 2.06-.94-2.06-.94-.94-2.06-.94 2.06-2.06.94z\"/><path d=\"M17.41 7.96l-1.37-1.37c-.4-.4-.92-.59-1.43-.59-.52 0-1.04.2-1.43.59L10.3 9.45l-7.72 7.72c-.78.78-.78 2.05 0 2.83L4 21.41c.39.39.9.59 1.41.59.51 0 1.02-.2 1.41-.59l7.78-7.78 2.81-2.81c.8-.78.8-2.07 0-2.86zM5.41 20L4 18.59l7.72-7.72 1.47 1.35L5.41 20z\"/>\n",
              "  </svg>\n",
              "      </button>\n",
              "      \n",
              "  <style>\n",
              "    .colab-df-container {\n",
              "      display:flex;\n",
              "      flex-wrap:wrap;\n",
              "      gap: 12px;\n",
              "    }\n",
              "\n",
              "    .colab-df-convert {\n",
              "      background-color: #E8F0FE;\n",
              "      border: none;\n",
              "      border-radius: 50%;\n",
              "      cursor: pointer;\n",
              "      display: none;\n",
              "      fill: #1967D2;\n",
              "      height: 32px;\n",
              "      padding: 0 0 0 0;\n",
              "      width: 32px;\n",
              "    }\n",
              "\n",
              "    .colab-df-convert:hover {\n",
              "      background-color: #E2EBFA;\n",
              "      box-shadow: 0px 1px 2px rgba(60, 64, 67, 0.3), 0px 1px 3px 1px rgba(60, 64, 67, 0.15);\n",
              "      fill: #174EA6;\n",
              "    }\n",
              "\n",
              "    [theme=dark] .colab-df-convert {\n",
              "      background-color: #3B4455;\n",
              "      fill: #D2E3FC;\n",
              "    }\n",
              "\n",
              "    [theme=dark] .colab-df-convert:hover {\n",
              "      background-color: #434B5C;\n",
              "      box-shadow: 0px 1px 3px 1px rgba(0, 0, 0, 0.15);\n",
              "      filter: drop-shadow(0px 1px 2px rgba(0, 0, 0, 0.3));\n",
              "      fill: #FFFFFF;\n",
              "    }\n",
              "  </style>\n",
              "\n",
              "      <script>\n",
              "        const buttonEl =\n",
              "          document.querySelector('#df-4bcd42f5-890c-48a2-a972-7d2558c2297d button.colab-df-convert');\n",
              "        buttonEl.style.display =\n",
              "          google.colab.kernel.accessAllowed ? 'block' : 'none';\n",
              "\n",
              "        async function convertToInteractive(key) {\n",
              "          const element = document.querySelector('#df-4bcd42f5-890c-48a2-a972-7d2558c2297d');\n",
              "          const dataTable =\n",
              "            await google.colab.kernel.invokeFunction('convertToInteractive',\n",
              "                                                     [key], {});\n",
              "          if (!dataTable) return;\n",
              "\n",
              "          const docLinkHtml = 'Like what you see? Visit the ' +\n",
              "            '<a target=\"_blank\" href=https://colab.research.google.com/notebooks/data_table.ipynb>data table notebook</a>'\n",
              "            + ' to learn more about interactive tables.';\n",
              "          element.innerHTML = '';\n",
              "          dataTable['output_type'] = 'display_data';\n",
              "          await google.colab.output.renderOutput(dataTable, element);\n",
              "          const docLink = document.createElement('div');\n",
              "          docLink.innerHTML = docLinkHtml;\n",
              "          element.appendChild(docLink);\n",
              "        }\n",
              "      </script>\n",
              "    </div>\n",
              "  </div>\n",
              "  "
            ]
          },
          "metadata": {},
          "execution_count": 14
        }
      ],
      "source": [
        "best_glm_phat = best_glm.predict(hvalid).as_data_frame() \n",
        "best_glm_phat.drop(['predict', 'p0'], axis=1, inplace=True)\n",
        "best_glm_phat.columns = ['phat']\n",
        "best_glm_phat = pd.concat([valid.reset_index(drop=True), best_glm_phat], axis=1)\n",
        "best_glm_phat.head()"
      ]
    },
    {
      "cell_type": "markdown",
      "id": "026139a9",
      "metadata": {
        "id": "026139a9"
      },
      "source": [
        "#### Utility function for selecting percentiles"
      ]
    },
    {
      "cell_type": "code",
      "execution_count": 15,
      "id": "ca972f60",
      "metadata": {
        "id": "ca972f60"
      },
      "outputs": [],
      "source": [
        "def get_percentile_dict(yhat_name, frame, id_):\n",
        "\n",
        "    \"\"\" Returns the percentiles of a column, yhat_name, as the indices based on\n",
        "        another column id_.\n",
        "        :param yhat_name: Name of column in frame in which to find percentiles.\n",
        "        :param frame: Pandas frame.\n",
        "        :param id_: Validation Pandas frame containing yhat and id_.\n",
        "        :return: Dictionary of percentile values and index column values.\n",
        "    \"\"\"\n",
        "\n",
        "    # create a copy of frame and sort it by yhat\n",
        "    sort_df = frame.copy(deep=True)\n",
        "    sort_df.sort_values(yhat_name, inplace=True)\n",
        "    sort_df.reset_index(inplace=True)\n",
        "\n",
        "    # find top and bottom percentiles\n",
        "    percentiles_dict = {0: sort_df.loc[0, id_], 99: sort_df.loc[sort_df.shape[0] - 1, id_]}\n",
        "\n",
        "    # find 10th-90th percentiles\n",
        "    inc = sort_df.shape[0] // 10\n",
        "    for i in range(1, 10):\n",
        "        percentiles_dict[i * 10] = sort_df.loc[i * inc, id_]\n",
        "\n",
        "    return percentiles_dict"
      ]
    },
    {
      "cell_type": "markdown",
      "id": "d9095532",
      "metadata": {
        "id": "d9095532"
      },
      "source": [
        "#### Select percentiles from predictions"
      ]
    },
    {
      "cell_type": "code",
      "execution_count": 16,
      "id": "c9b69058",
      "metadata": {
        "colab": {
          "base_uri": "https://localhost:8080/"
        },
        "id": "c9b69058",
        "outputId": "15171b62-1deb-473f-b3eb-6c1a76c0e3a1"
      },
      "outputs": [
        {
          "output_type": "stream",
          "name": "stdout",
          "text": [
            "0: 152878\n",
            "10: 154185\n",
            "20: 74908\n",
            "30: 37440\n",
            "40: 138502\n",
            "50: 78582\n",
            "60: 139677\n",
            "70: 156880\n",
            "80: 26748\n",
            "90: 95570\n",
            "99: 46601\n"
          ]
        }
      ],
      "source": [
        "best_glm_percentiles = get_percentile_dict('phat', best_glm_phat, 'row_id')\n",
        "for key in sorted(best_glm_percentiles.keys()):\n",
        "    print(str(key) + ': ' + str(best_glm_percentiles[key]))"
      ]
    },
    {
      "cell_type": "markdown",
      "id": "3136ceee",
      "metadata": {
        "id": "3136ceee"
      },
      "source": [
        "#### Collect global feature importance info"
      ]
    },
    {
      "cell_type": "code",
      "execution_count": 17,
      "id": "a12367f0",
      "metadata": {
        "colab": {
          "base_uri": "https://localhost:8080/"
        },
        "id": "a12367f0",
        "outputId": "41bd3af1-122f-42f2-b311-462dfa5817f2"
      },
      "outputs": [
        {
          "output_type": "stream",
          "name": "stdout",
          "text": [
            "term_360                        0.068333\n",
            "conforming                      0.000000\n",
            "debt_to_income_ratio_missing    0.000000\n",
            "loan_amount_std                 0.000000\n",
            "loan_to_value_ratio_std         0.187592\n",
            "no_intro_rate_period_std        0.000000\n",
            "intro_rate_period_std           0.000000\n",
            "property_value_std              0.930194\n",
            "income_std                      0.000000\n",
            "debt_to_income_ratio_std        0.330918\n",
            "Name: GLM Importance, dtype: float64\n"
          ]
        }
      ],
      "source": [
        "# use coefficients as relative global feature importance\n",
        "global_fi = pd.DataFrame.from_dict(best_glm.coef(), columns=['GLM Importance'], orient='index')\n",
        "global_fi.drop('Intercept', inplace=True)\n",
        "global_fi['GLM Importance'] = np.abs(global_fi['GLM Importance'])\n",
        "print(global_fi['GLM Importance'])"
      ]
    },
    {
      "cell_type": "markdown",
      "id": "f1196f05",
      "metadata": {
        "id": "f1196f05"
      },
      "source": [
        "#### Collect local feature importance info"
      ]
    },
    {
      "cell_type": "code",
      "execution_count": 18,
      "id": "6898f1e2",
      "metadata": {
        "id": "6898f1e2"
      },
      "outputs": [],
      "source": [
        "# use (coefficient * value) as local feature importance\n",
        "\n",
        "# init frame to store local contribs\n",
        "local_fi_dict = {10: pd.DataFrame(columns = ['GLM Contribution'], index=x_names),\n",
        "                 50: pd.DataFrame(columns = ['GLM Contribution'], index=x_names),\n",
        "                 90: pd.DataFrame(columns = ['GLM Contribution'], index=x_names)}\n",
        "\n",
        "# get (coefficient * value) at three percentiles of phat\n",
        "for name in x_names:\n",
        "    for percentile in [10, 50, 90]:\n",
        "    \n",
        "        # local contributions = beta_j * x_i,j\n",
        "        local_fi_dict[percentile].loc[name, 'GLM Contribution'] =\\\n",
        "            best_glm.coef()[name] *\\\n",
        "            valid[valid['row_id'] == int(best_glm_percentiles[percentile])][name].values[0]"
      ]
    },
    {
      "cell_type": "markdown",
      "id": "935f9302",
      "metadata": {
        "id": "935f9302"
      },
      "source": [
        "### Monotonic XGBoost"
      ]
    },
    {
      "cell_type": "markdown",
      "id": "fe03d082",
      "metadata": {
        "id": "fe03d082"
      },
      "source": [
        "#### Define utility function for random grid search"
      ]
    },
    {
      "cell_type": "code",
      "execution_count": 19,
      "id": "02f6deef",
      "metadata": {
        "id": "02f6deef"
      },
      "outputs": [],
      "source": [
        "def xgb_grid(dtrain, dvalid, mono_constraints=None, gs_params=None, n_models=None,\n",
        "             ntree=None, early_stopping_rounds=None, verbose=False, seed=None):\n",
        "    \n",
        "    \"\"\" Performs a random grid search over n_models and gs_params.\n",
        "\n",
        "    :param dtrain: Training data in LightSVM format.\n",
        "    :param dvalid: Validation data in LightSVM format.\n",
        "    :param mono_constraints: User-supplied monotonicity constraints.\n",
        "    :param gs_params: Dictionary of lists of potential XGBoost parameters over which to search.\n",
        "    :param n_models: Number of random models to evaluate.\n",
        "    :param ntree: Number of trees in XGBoost model.\n",
        "    :param early_stopping_rounds: XGBoost early stopping rounds.\n",
        "    :param verbose: Whether to display training iterations, default False.\n",
        "    :param seed: Random seed for better interpretability.\n",
        "    :return: Best candidate model from random grid search.\n",
        "\n",
        "    \"\"\"\n",
        "\n",
        "    # cartesian product of gs_params\n",
        "    keys, values = zip(*gs_params.items())\n",
        "    experiments = [dict(zip(keys, v)) for v in itertools.product(*values)]\n",
        "\n",
        "    # preserve exact reproducibility for this function\n",
        "    np.random.seed(SEED) \n",
        "    \n",
        "    # select randomly from cartesian product space\n",
        "    selected_experiments = np.random.choice(len(experiments), n_models)\n",
        "\n",
        "    # set global params for objective,  etc.\n",
        "    params = {'booster': 'gbtree',\n",
        "              'eval_metric': 'auc',\n",
        "              'nthread': NTHREAD,\n",
        "              'objective': 'binary:logistic',\n",
        "              'seed': SEED}\n",
        "\n",
        "    # init grid search loop\n",
        "    best_candidate = None\n",
        "    best_score = 0\n",
        "\n",
        "    # grid search loop\n",
        "    for i, exp in enumerate(selected_experiments):\n",
        "\n",
        "        params.update(experiments[exp])  # override global params with current grid run params\n",
        "\n",
        "        print('Grid search run %d/%d:' % (int(i + 1), int(n_models)))\n",
        "        print('Training with parameters:', params)\n",
        "\n",
        "        # train on current params\n",
        "        watchlist = [(dtrain, 'train'), (dvalid, 'eval')]\n",
        "        \n",
        "        if mono_constraints is not None:\n",
        "            params['monotone_constraints'] = mono_constraints\n",
        "        \n",
        "        candidate = xgb.train(params,\n",
        "                              dtrain,\n",
        "                              ntree,\n",
        "                              early_stopping_rounds=early_stopping_rounds,\n",
        "                              evals=watchlist,\n",
        "                              verbose_eval=verbose)    \n",
        "\n",
        "        # determine if current model is better than previous best\n",
        "        if candidate.best_score > best_score:\n",
        "            best_candidate = candidate\n",
        "            best_score = candidate.best_score\n",
        "            print('Grid search new best score discovered at iteration %d/%d: %.4f.' %\n",
        "                             (int(i + 1), int(n_models), candidate.best_score))\n",
        "\n",
        "        print('---------- ----------')\n",
        "            \n",
        "    return best_candidate"
      ]
    },
    {
      "cell_type": "markdown",
      "id": "f022e24a",
      "metadata": {
        "id": "f022e24a"
      },
      "source": [
        "#### Fit monotonic XGBoost with random grid search"
      ]
    },
    {
      "cell_type": "code",
      "execution_count": 20,
      "id": "ac9cb630",
      "metadata": {
        "colab": {
          "base_uri": "https://localhost:8080/"
        },
        "id": "ac9cb630",
        "outputId": "b1f77559-6f42-44f0-a694-228617dce731"
      },
      "outputs": [
        {
          "output_type": "stream",
          "name": "stdout",
          "text": [
            "Grid search run 1/50:\n",
            "Training with parameters: {'booster': 'gbtree', 'eval_metric': 'auc', 'nthread': 4, 'objective': 'binary:logistic', 'seed': 12345, 'colsample_bytree': 0.9, 'colsample_bylevel': 0.9, 'eta': 0.5, 'max_depth': 7, 'reg_alpha': 0.0005, 'reg_lambda': 0.005, 'subsample': 0.3, 'min_child_weight': 5, 'gamma': 0.0}\n",
            "Grid search new best score discovered at iteration 1/50: 0.7915.\n",
            "---------- ----------\n",
            "Grid search run 2/50:\n",
            "Training with parameters: {'booster': 'gbtree', 'eval_metric': 'auc', 'nthread': 4, 'objective': 'binary:logistic', 'seed': 12345, 'colsample_bytree': 0.3, 'colsample_bylevel': 0.3, 'eta': 0.05, 'max_depth': 5, 'reg_alpha': 0.0005, 'reg_lambda': 0.0005, 'subsample': 0.5, 'min_child_weight': 1, 'gamma': 0.2, 'monotone_constraints': (1, 1, 1, -1, 1, 1, -1, -1, -1, 1)}\n",
            "---------- ----------\n",
            "Grid search run 3/50:\n",
            "Training with parameters: {'booster': 'gbtree', 'eval_metric': 'auc', 'nthread': 4, 'objective': 'binary:logistic', 'seed': 12345, 'colsample_bytree': 0.3, 'colsample_bylevel': 0.3, 'eta': 0.5, 'max_depth': 5, 'reg_alpha': 0.005, 'reg_lambda': 0.05, 'subsample': 0.3, 'min_child_weight': 10, 'gamma': 0.4, 'monotone_constraints': (1, 1, 1, -1, 1, 1, -1, -1, -1, 1)}\n",
            "---------- ----------\n",
            "Grid search run 4/50:\n",
            "Training with parameters: {'booster': 'gbtree', 'eval_metric': 'auc', 'nthread': 4, 'objective': 'binary:logistic', 'seed': 12345, 'colsample_bytree': 0.5, 'colsample_bylevel': 0.5, 'eta': 0.5, 'max_depth': 3, 'reg_alpha': 0.05, 'reg_lambda': 0.005, 'subsample': 0.9, 'min_child_weight': 1, 'gamma': 0.0, 'monotone_constraints': (1, 1, 1, -1, 1, 1, -1, -1, -1, 1)}\n",
            "---------- ----------\n",
            "Grid search run 5/50:\n",
            "Training with parameters: {'booster': 'gbtree', 'eval_metric': 'auc', 'nthread': 4, 'objective': 'binary:logistic', 'seed': 12345, 'colsample_bytree': 0.3, 'colsample_bylevel': 0.9, 'eta': 0.05, 'max_depth': 5, 'reg_alpha': 0.005, 'reg_lambda': 0.0005, 'subsample': 0.3, 'min_child_weight': 10, 'gamma': 0.0, 'monotone_constraints': (1, 1, 1, -1, 1, 1, -1, -1, -1, 1)}\n",
            "---------- ----------\n",
            "Grid search run 6/50:\n",
            "Training with parameters: {'booster': 'gbtree', 'eval_metric': 'auc', 'nthread': 4, 'objective': 'binary:logistic', 'seed': 12345, 'colsample_bytree': 0.7, 'colsample_bylevel': 0.5, 'eta': 0.5, 'max_depth': 5, 'reg_alpha': 0.005, 'reg_lambda': 0.05, 'subsample': 0.9, 'min_child_weight': 5, 'gamma': 0.3, 'monotone_constraints': (1, 1, 1, -1, 1, 1, -1, -1, -1, 1)}\n",
            "---------- ----------\n",
            "Grid search run 7/50:\n",
            "Training with parameters: {'booster': 'gbtree', 'eval_metric': 'auc', 'nthread': 4, 'objective': 'binary:logistic', 'seed': 12345, 'colsample_bytree': 0.5, 'colsample_bylevel': 0.5, 'eta': 0.5, 'max_depth': 3, 'reg_alpha': 0.005, 'reg_lambda': 0.0005, 'subsample': 0.9, 'min_child_weight': 1, 'gamma': 0.1, 'monotone_constraints': (1, 1, 1, -1, 1, 1, -1, -1, -1, 1)}\n",
            "---------- ----------\n",
            "Grid search run 8/50:\n",
            "Training with parameters: {'booster': 'gbtree', 'eval_metric': 'auc', 'nthread': 4, 'objective': 'binary:logistic', 'seed': 12345, 'colsample_bytree': 0.7, 'colsample_bylevel': 0.7, 'eta': 0.5, 'max_depth': 5, 'reg_alpha': 0.005, 'reg_lambda': 0.0005, 'subsample': 0.7, 'min_child_weight': 1, 'gamma': 0.3, 'monotone_constraints': (1, 1, 1, -1, 1, 1, -1, -1, -1, 1)}\n",
            "---------- ----------\n",
            "Grid search run 9/50:\n",
            "Training with parameters: {'booster': 'gbtree', 'eval_metric': 'auc', 'nthread': 4, 'objective': 'binary:logistic', 'seed': 12345, 'colsample_bytree': 0.7, 'colsample_bylevel': 0.3, 'eta': 0.005, 'max_depth': 7, 'reg_alpha': 0.005, 'reg_lambda': 0.005, 'subsample': 0.9, 'min_child_weight': 5, 'gamma': 0.1, 'monotone_constraints': (1, 1, 1, -1, 1, 1, -1, -1, -1, 1)}\n",
            "---------- ----------\n",
            "Grid search run 10/50:\n",
            "Training with parameters: {'booster': 'gbtree', 'eval_metric': 'auc', 'nthread': 4, 'objective': 'binary:logistic', 'seed': 12345, 'colsample_bytree': 0.3, 'colsample_bylevel': 0.5, 'eta': 0.05, 'max_depth': 3, 'reg_alpha': 0.005, 'reg_lambda': 0.05, 'subsample': 0.5, 'min_child_weight': 1, 'gamma': 0.3, 'monotone_constraints': (1, 1, 1, -1, 1, 1, -1, -1, -1, 1)}\n",
            "---------- ----------\n",
            "Grid search run 11/50:\n",
            "Training with parameters: {'booster': 'gbtree', 'eval_metric': 'auc', 'nthread': 4, 'objective': 'binary:logistic', 'seed': 12345, 'colsample_bytree': 0.5, 'colsample_bylevel': 0.3, 'eta': 0.05, 'max_depth': 7, 'reg_alpha': 0.05, 'reg_lambda': 0.05, 'subsample': 0.3, 'min_child_weight': 10, 'gamma': 0.3, 'monotone_constraints': (1, 1, 1, -1, 1, 1, -1, -1, -1, 1)}\n",
            "---------- ----------\n",
            "Grid search run 12/50:\n",
            "Training with parameters: {'booster': 'gbtree', 'eval_metric': 'auc', 'nthread': 4, 'objective': 'binary:logistic', 'seed': 12345, 'colsample_bytree': 0.5, 'colsample_bylevel': 0.3, 'eta': 0.5, 'max_depth': 5, 'reg_alpha': 0.0005, 'reg_lambda': 0.005, 'subsample': 0.3, 'min_child_weight': 5, 'gamma': 0.2, 'monotone_constraints': (1, 1, 1, -1, 1, 1, -1, -1, -1, 1)}\n",
            "---------- ----------\n",
            "Grid search run 13/50:\n",
            "Training with parameters: {'booster': 'gbtree', 'eval_metric': 'auc', 'nthread': 4, 'objective': 'binary:logistic', 'seed': 12345, 'colsample_bytree': 0.5, 'colsample_bylevel': 0.3, 'eta': 0.05, 'max_depth': 5, 'reg_alpha': 0.005, 'reg_lambda': 0.005, 'subsample': 0.7, 'min_child_weight': 5, 'gamma': 0.3, 'monotone_constraints': (1, 1, 1, -1, 1, 1, -1, -1, -1, 1)}\n",
            "---------- ----------\n",
            "Grid search run 14/50:\n",
            "Training with parameters: {'booster': 'gbtree', 'eval_metric': 'auc', 'nthread': 4, 'objective': 'binary:logistic', 'seed': 12345, 'colsample_bytree': 0.3, 'colsample_bylevel': 0.9, 'eta': 0.005, 'max_depth': 5, 'reg_alpha': 0.05, 'reg_lambda': 0.005, 'subsample': 0.5, 'min_child_weight': 10, 'gamma': 0.3, 'monotone_constraints': (1, 1, 1, -1, 1, 1, -1, -1, -1, 1)}\n",
            "---------- ----------\n",
            "Grid search run 15/50:\n",
            "Training with parameters: {'booster': 'gbtree', 'eval_metric': 'auc', 'nthread': 4, 'objective': 'binary:logistic', 'seed': 12345, 'colsample_bytree': 0.7, 'colsample_bylevel': 0.3, 'eta': 0.05, 'max_depth': 7, 'reg_alpha': 0.005, 'reg_lambda': 0.005, 'subsample': 0.5, 'min_child_weight': 5, 'gamma': 0.2, 'monotone_constraints': (1, 1, 1, -1, 1, 1, -1, -1, -1, 1)}\n",
            "---------- ----------\n",
            "Grid search run 16/50:\n",
            "Training with parameters: {'booster': 'gbtree', 'eval_metric': 'auc', 'nthread': 4, 'objective': 'binary:logistic', 'seed': 12345, 'colsample_bytree': 0.3, 'colsample_bylevel': 0.7, 'eta': 0.5, 'max_depth': 3, 'reg_alpha': 0.0005, 'reg_lambda': 0.0005, 'subsample': 0.7, 'min_child_weight': 10, 'gamma': 0.1, 'monotone_constraints': (1, 1, 1, -1, 1, 1, -1, -1, -1, 1)}\n",
            "---------- ----------\n",
            "Grid search run 17/50:\n",
            "Training with parameters: {'booster': 'gbtree', 'eval_metric': 'auc', 'nthread': 4, 'objective': 'binary:logistic', 'seed': 12345, 'colsample_bytree': 0.3, 'colsample_bylevel': 0.5, 'eta': 0.005, 'max_depth': 5, 'reg_alpha': 0.05, 'reg_lambda': 0.005, 'subsample': 0.5, 'min_child_weight': 5, 'gamma': 0.2, 'monotone_constraints': (1, 1, 1, -1, 1, 1, -1, -1, -1, 1)}\n",
            "---------- ----------\n",
            "Grid search run 18/50:\n",
            "Training with parameters: {'booster': 'gbtree', 'eval_metric': 'auc', 'nthread': 4, 'objective': 'binary:logistic', 'seed': 12345, 'colsample_bytree': 0.5, 'colsample_bylevel': 0.7, 'eta': 0.05, 'max_depth': 3, 'reg_alpha': 0.005, 'reg_lambda': 0.0005, 'subsample': 0.5, 'min_child_weight': 5, 'gamma': 0.3, 'monotone_constraints': (1, 1, 1, -1, 1, 1, -1, -1, -1, 1)}\n",
            "---------- ----------\n",
            "Grid search run 19/50:\n",
            "Training with parameters: {'booster': 'gbtree', 'eval_metric': 'auc', 'nthread': 4, 'objective': 'binary:logistic', 'seed': 12345, 'colsample_bytree': 0.5, 'colsample_bylevel': 0.9, 'eta': 0.05, 'max_depth': 7, 'reg_alpha': 0.005, 'reg_lambda': 0.0005, 'subsample': 0.3, 'min_child_weight': 5, 'gamma': 0.2, 'monotone_constraints': (1, 1, 1, -1, 1, 1, -1, -1, -1, 1)}\n",
            "---------- ----------\n",
            "Grid search run 20/50:\n",
            "Training with parameters: {'booster': 'gbtree', 'eval_metric': 'auc', 'nthread': 4, 'objective': 'binary:logistic', 'seed': 12345, 'colsample_bytree': 0.9, 'colsample_bylevel': 0.3, 'eta': 0.05, 'max_depth': 3, 'reg_alpha': 0.05, 'reg_lambda': 0.0005, 'subsample': 0.7, 'min_child_weight': 10, 'gamma': 0.4, 'monotone_constraints': (1, 1, 1, -1, 1, 1, -1, -1, -1, 1)}\n",
            "---------- ----------\n",
            "Grid search run 21/50:\n",
            "Training with parameters: {'booster': 'gbtree', 'eval_metric': 'auc', 'nthread': 4, 'objective': 'binary:logistic', 'seed': 12345, 'colsample_bytree': 0.3, 'colsample_bylevel': 0.3, 'eta': 0.5, 'max_depth': 3, 'reg_alpha': 0.005, 'reg_lambda': 0.005, 'subsample': 0.7, 'min_child_weight': 1, 'gamma': 0.1, 'monotone_constraints': (1, 1, 1, -1, 1, 1, -1, -1, -1, 1)}\n",
            "---------- ----------\n",
            "Grid search run 22/50:\n",
            "Training with parameters: {'booster': 'gbtree', 'eval_metric': 'auc', 'nthread': 4, 'objective': 'binary:logistic', 'seed': 12345, 'colsample_bytree': 0.9, 'colsample_bylevel': 0.9, 'eta': 0.05, 'max_depth': 3, 'reg_alpha': 0.05, 'reg_lambda': 0.05, 'subsample': 0.7, 'min_child_weight': 5, 'gamma': 0.4, 'monotone_constraints': (1, 1, 1, -1, 1, 1, -1, -1, -1, 1)}\n",
            "Grid search new best score discovered at iteration 22/50: 0.7916.\n",
            "---------- ----------\n",
            "Grid search run 23/50:\n",
            "Training with parameters: {'booster': 'gbtree', 'eval_metric': 'auc', 'nthread': 4, 'objective': 'binary:logistic', 'seed': 12345, 'colsample_bytree': 0.9, 'colsample_bylevel': 0.3, 'eta': 0.5, 'max_depth': 5, 'reg_alpha': 0.0005, 'reg_lambda': 0.0005, 'subsample': 0.7, 'min_child_weight': 10, 'gamma': 0.1, 'monotone_constraints': (1, 1, 1, -1, 1, 1, -1, -1, -1, 1)}\n",
            "---------- ----------\n",
            "Grid search run 24/50:\n",
            "Training with parameters: {'booster': 'gbtree', 'eval_metric': 'auc', 'nthread': 4, 'objective': 'binary:logistic', 'seed': 12345, 'colsample_bytree': 0.7, 'colsample_bylevel': 0.7, 'eta': 0.05, 'max_depth': 5, 'reg_alpha': 0.005, 'reg_lambda': 0.005, 'subsample': 0.7, 'min_child_weight': 5, 'gamma': 0.0, 'monotone_constraints': (1, 1, 1, -1, 1, 1, -1, -1, -1, 1)}\n",
            "---------- ----------\n",
            "Grid search run 25/50:\n",
            "Training with parameters: {'booster': 'gbtree', 'eval_metric': 'auc', 'nthread': 4, 'objective': 'binary:logistic', 'seed': 12345, 'colsample_bytree': 0.9, 'colsample_bylevel': 0.7, 'eta': 0.005, 'max_depth': 3, 'reg_alpha': 0.0005, 'reg_lambda': 0.05, 'subsample': 0.3, 'min_child_weight': 1, 'gamma': 0.0, 'monotone_constraints': (1, 1, 1, -1, 1, 1, -1, -1, -1, 1)}\n",
            "---------- ----------\n",
            "Grid search run 26/50:\n",
            "Training with parameters: {'booster': 'gbtree', 'eval_metric': 'auc', 'nthread': 4, 'objective': 'binary:logistic', 'seed': 12345, 'colsample_bytree': 0.5, 'colsample_bylevel': 0.9, 'eta': 0.05, 'max_depth': 7, 'reg_alpha': 0.05, 'reg_lambda': 0.05, 'subsample': 0.9, 'min_child_weight': 5, 'gamma': 0.1, 'monotone_constraints': (1, 1, 1, -1, 1, 1, -1, -1, -1, 1)}\n",
            "---------- ----------\n",
            "Grid search run 27/50:\n",
            "Training with parameters: {'booster': 'gbtree', 'eval_metric': 'auc', 'nthread': 4, 'objective': 'binary:logistic', 'seed': 12345, 'colsample_bytree': 0.9, 'colsample_bylevel': 0.7, 'eta': 0.005, 'max_depth': 3, 'reg_alpha': 0.005, 'reg_lambda': 0.05, 'subsample': 0.3, 'min_child_weight': 5, 'gamma': 0.3, 'monotone_constraints': (1, 1, 1, -1, 1, 1, -1, -1, -1, 1)}\n",
            "---------- ----------\n",
            "Grid search run 28/50:\n",
            "Training with parameters: {'booster': 'gbtree', 'eval_metric': 'auc', 'nthread': 4, 'objective': 'binary:logistic', 'seed': 12345, 'colsample_bytree': 0.5, 'colsample_bylevel': 0.9, 'eta': 0.05, 'max_depth': 3, 'reg_alpha': 0.005, 'reg_lambda': 0.05, 'subsample': 0.7, 'min_child_weight': 10, 'gamma': 0.3, 'monotone_constraints': (1, 1, 1, -1, 1, 1, -1, -1, -1, 1)}\n",
            "---------- ----------\n",
            "Grid search run 29/50:\n",
            "Training with parameters: {'booster': 'gbtree', 'eval_metric': 'auc', 'nthread': 4, 'objective': 'binary:logistic', 'seed': 12345, 'colsample_bytree': 0.7, 'colsample_bylevel': 0.7, 'eta': 0.005, 'max_depth': 7, 'reg_alpha': 0.0005, 'reg_lambda': 0.005, 'subsample': 0.7, 'min_child_weight': 10, 'gamma': 0.3, 'monotone_constraints': (1, 1, 1, -1, 1, 1, -1, -1, -1, 1)}\n",
            "---------- ----------\n",
            "Grid search run 30/50:\n",
            "Training with parameters: {'booster': 'gbtree', 'eval_metric': 'auc', 'nthread': 4, 'objective': 'binary:logistic', 'seed': 12345, 'colsample_bytree': 0.9, 'colsample_bylevel': 0.3, 'eta': 0.005, 'max_depth': 5, 'reg_alpha': 0.005, 'reg_lambda': 0.05, 'subsample': 0.9, 'min_child_weight': 5, 'gamma': 0.1, 'monotone_constraints': (1, 1, 1, -1, 1, 1, -1, -1, -1, 1)}\n",
            "---------- ----------\n",
            "Grid search run 31/50:\n",
            "Training with parameters: {'booster': 'gbtree', 'eval_metric': 'auc', 'nthread': 4, 'objective': 'binary:logistic', 'seed': 12345, 'colsample_bytree': 0.9, 'colsample_bylevel': 0.3, 'eta': 0.05, 'max_depth': 7, 'reg_alpha': 0.005, 'reg_lambda': 0.05, 'subsample': 0.3, 'min_child_weight': 5, 'gamma': 0.1, 'monotone_constraints': (1, 1, 1, -1, 1, 1, -1, -1, -1, 1)}\n",
            "---------- ----------\n",
            "Grid search run 32/50:\n",
            "Training with parameters: {'booster': 'gbtree', 'eval_metric': 'auc', 'nthread': 4, 'objective': 'binary:logistic', 'seed': 12345, 'colsample_bytree': 0.9, 'colsample_bylevel': 0.5, 'eta': 0.5, 'max_depth': 7, 'reg_alpha': 0.05, 'reg_lambda': 0.005, 'subsample': 0.7, 'min_child_weight': 5, 'gamma': 0.0, 'monotone_constraints': (1, 1, 1, -1, 1, 1, -1, -1, -1, 1)}\n",
            "---------- ----------\n",
            "Grid search run 33/50:\n",
            "Training with parameters: {'booster': 'gbtree', 'eval_metric': 'auc', 'nthread': 4, 'objective': 'binary:logistic', 'seed': 12345, 'colsample_bytree': 0.9, 'colsample_bylevel': 0.7, 'eta': 0.05, 'max_depth': 3, 'reg_alpha': 0.0005, 'reg_lambda': 0.005, 'subsample': 0.5, 'min_child_weight': 5, 'gamma': 0.0, 'monotone_constraints': (1, 1, 1, -1, 1, 1, -1, -1, -1, 1)}\n",
            "---------- ----------\n",
            "Grid search run 34/50:\n",
            "Training with parameters: {'booster': 'gbtree', 'eval_metric': 'auc', 'nthread': 4, 'objective': 'binary:logistic', 'seed': 12345, 'colsample_bytree': 0.5, 'colsample_bylevel': 0.3, 'eta': 0.5, 'max_depth': 5, 'reg_alpha': 0.05, 'reg_lambda': 0.0005, 'subsample': 0.7, 'min_child_weight': 1, 'gamma': 0.1, 'monotone_constraints': (1, 1, 1, -1, 1, 1, -1, -1, -1, 1)}\n",
            "---------- ----------\n",
            "Grid search run 35/50:\n",
            "Training with parameters: {'booster': 'gbtree', 'eval_metric': 'auc', 'nthread': 4, 'objective': 'binary:logistic', 'seed': 12345, 'colsample_bytree': 0.7, 'colsample_bylevel': 0.3, 'eta': 0.5, 'max_depth': 5, 'reg_alpha': 0.05, 'reg_lambda': 0.005, 'subsample': 0.3, 'min_child_weight': 10, 'gamma': 0.1, 'monotone_constraints': (1, 1, 1, -1, 1, 1, -1, -1, -1, 1)}\n",
            "---------- ----------\n",
            "Grid search run 36/50:\n",
            "Training with parameters: {'booster': 'gbtree', 'eval_metric': 'auc', 'nthread': 4, 'objective': 'binary:logistic', 'seed': 12345, 'colsample_bytree': 0.9, 'colsample_bylevel': 0.9, 'eta': 0.5, 'max_depth': 7, 'reg_alpha': 0.0005, 'reg_lambda': 0.005, 'subsample': 0.7, 'min_child_weight': 10, 'gamma': 0.4, 'monotone_constraints': (1, 1, 1, -1, 1, 1, -1, -1, -1, 1)}\n",
            "Grid search new best score discovered at iteration 36/50: 0.7919.\n",
            "---------- ----------\n",
            "Grid search run 37/50:\n",
            "Training with parameters: {'booster': 'gbtree', 'eval_metric': 'auc', 'nthread': 4, 'objective': 'binary:logistic', 'seed': 12345, 'colsample_bytree': 0.9, 'colsample_bylevel': 0.9, 'eta': 0.05, 'max_depth': 5, 'reg_alpha': 0.05, 'reg_lambda': 0.005, 'subsample': 0.7, 'min_child_weight': 5, 'gamma': 0.0, 'monotone_constraints': (1, 1, 1, -1, 1, 1, -1, -1, -1, 1)}\n",
            "---------- ----------\n",
            "Grid search run 38/50:\n",
            "Training with parameters: {'booster': 'gbtree', 'eval_metric': 'auc', 'nthread': 4, 'objective': 'binary:logistic', 'seed': 12345, 'colsample_bytree': 0.7, 'colsample_bylevel': 0.3, 'eta': 0.5, 'max_depth': 5, 'reg_alpha': 0.05, 'reg_lambda': 0.05, 'subsample': 0.5, 'min_child_weight': 5, 'gamma': 0.3, 'monotone_constraints': (1, 1, 1, -1, 1, 1, -1, -1, -1, 1)}\n",
            "---------- ----------\n",
            "Grid search run 39/50:\n",
            "Training with parameters: {'booster': 'gbtree', 'eval_metric': 'auc', 'nthread': 4, 'objective': 'binary:logistic', 'seed': 12345, 'colsample_bytree': 0.9, 'colsample_bylevel': 0.5, 'eta': 0.05, 'max_depth': 3, 'reg_alpha': 0.0005, 'reg_lambda': 0.0005, 'subsample': 0.3, 'min_child_weight': 5, 'gamma': 0.1, 'monotone_constraints': (1, 1, 1, -1, 1, 1, -1, -1, -1, 1)}\n",
            "---------- ----------\n",
            "Grid search run 40/50:\n",
            "Training with parameters: {'booster': 'gbtree', 'eval_metric': 'auc', 'nthread': 4, 'objective': 'binary:logistic', 'seed': 12345, 'colsample_bytree': 0.9, 'colsample_bylevel': 0.7, 'eta': 0.5, 'max_depth': 3, 'reg_alpha': 0.0005, 'reg_lambda': 0.05, 'subsample': 0.3, 'min_child_weight': 1, 'gamma': 0.3, 'monotone_constraints': (1, 1, 1, -1, 1, 1, -1, -1, -1, 1)}\n",
            "---------- ----------\n",
            "Grid search run 41/50:\n",
            "Training with parameters: {'booster': 'gbtree', 'eval_metric': 'auc', 'nthread': 4, 'objective': 'binary:logistic', 'seed': 12345, 'colsample_bytree': 0.5, 'colsample_bylevel': 0.9, 'eta': 0.5, 'max_depth': 7, 'reg_alpha': 0.0005, 'reg_lambda': 0.05, 'subsample': 0.3, 'min_child_weight': 10, 'gamma': 0.4, 'monotone_constraints': (1, 1, 1, -1, 1, 1, -1, -1, -1, 1)}\n",
            "---------- ----------\n",
            "Grid search run 42/50:\n",
            "Training with parameters: {'booster': 'gbtree', 'eval_metric': 'auc', 'nthread': 4, 'objective': 'binary:logistic', 'seed': 12345, 'colsample_bytree': 0.5, 'colsample_bylevel': 0.9, 'eta': 0.05, 'max_depth': 3, 'reg_alpha': 0.005, 'reg_lambda': 0.005, 'subsample': 0.7, 'min_child_weight': 5, 'gamma': 0.1, 'monotone_constraints': (1, 1, 1, -1, 1, 1, -1, -1, -1, 1)}\n",
            "---------- ----------\n",
            "Grid search run 43/50:\n",
            "Training with parameters: {'booster': 'gbtree', 'eval_metric': 'auc', 'nthread': 4, 'objective': 'binary:logistic', 'seed': 12345, 'colsample_bytree': 0.7, 'colsample_bylevel': 0.3, 'eta': 0.5, 'max_depth': 7, 'reg_alpha': 0.05, 'reg_lambda': 0.0005, 'subsample': 0.5, 'min_child_weight': 5, 'gamma': 0.2, 'monotone_constraints': (1, 1, 1, -1, 1, 1, -1, -1, -1, 1)}\n",
            "---------- ----------\n",
            "Grid search run 44/50:\n",
            "Training with parameters: {'booster': 'gbtree', 'eval_metric': 'auc', 'nthread': 4, 'objective': 'binary:logistic', 'seed': 12345, 'colsample_bytree': 0.7, 'colsample_bylevel': 0.3, 'eta': 0.005, 'max_depth': 3, 'reg_alpha': 0.005, 'reg_lambda': 0.05, 'subsample': 0.5, 'min_child_weight': 10, 'gamma': 0.4, 'monotone_constraints': (1, 1, 1, -1, 1, 1, -1, -1, -1, 1)}\n",
            "---------- ----------\n",
            "Grid search run 45/50:\n",
            "Training with parameters: {'booster': 'gbtree', 'eval_metric': 'auc', 'nthread': 4, 'objective': 'binary:logistic', 'seed': 12345, 'colsample_bytree': 0.7, 'colsample_bylevel': 0.7, 'eta': 0.05, 'max_depth': 3, 'reg_alpha': 0.0005, 'reg_lambda': 0.005, 'subsample': 0.7, 'min_child_weight': 10, 'gamma': 0.2, 'monotone_constraints': (1, 1, 1, -1, 1, 1, -1, -1, -1, 1)}\n",
            "---------- ----------\n",
            "Grid search run 46/50:\n",
            "Training with parameters: {'booster': 'gbtree', 'eval_metric': 'auc', 'nthread': 4, 'objective': 'binary:logistic', 'seed': 12345, 'colsample_bytree': 0.5, 'colsample_bylevel': 0.9, 'eta': 0.5, 'max_depth': 3, 'reg_alpha': 0.005, 'reg_lambda': 0.005, 'subsample': 0.9, 'min_child_weight': 5, 'gamma': 0.4, 'monotone_constraints': (1, 1, 1, -1, 1, 1, -1, -1, -1, 1)}\n",
            "---------- ----------\n",
            "Grid search run 47/50:\n",
            "Training with parameters: {'booster': 'gbtree', 'eval_metric': 'auc', 'nthread': 4, 'objective': 'binary:logistic', 'seed': 12345, 'colsample_bytree': 0.9, 'colsample_bylevel': 0.9, 'eta': 0.005, 'max_depth': 7, 'reg_alpha': 0.005, 'reg_lambda': 0.05, 'subsample': 0.7, 'min_child_weight': 10, 'gamma': 0.2, 'monotone_constraints': (1, 1, 1, -1, 1, 1, -1, -1, -1, 1)}\n",
            "---------- ----------\n",
            "Grid search run 48/50:\n",
            "Training with parameters: {'booster': 'gbtree', 'eval_metric': 'auc', 'nthread': 4, 'objective': 'binary:logistic', 'seed': 12345, 'colsample_bytree': 0.9, 'colsample_bylevel': 0.7, 'eta': 0.5, 'max_depth': 7, 'reg_alpha': 0.05, 'reg_lambda': 0.0005, 'subsample': 0.7, 'min_child_weight': 10, 'gamma': 0.2, 'monotone_constraints': (1, 1, 1, -1, 1, 1, -1, -1, -1, 1)}\n",
            "Grid search new best score discovered at iteration 48/50: 0.7920.\n",
            "---------- ----------\n",
            "Grid search run 49/50:\n",
            "Training with parameters: {'booster': 'gbtree', 'eval_metric': 'auc', 'nthread': 4, 'objective': 'binary:logistic', 'seed': 12345, 'colsample_bytree': 0.3, 'colsample_bylevel': 0.3, 'eta': 0.005, 'max_depth': 3, 'reg_alpha': 0.005, 'reg_lambda': 0.005, 'subsample': 0.7, 'min_child_weight': 5, 'gamma': 0.4, 'monotone_constraints': (1, 1, 1, -1, 1, 1, -1, -1, -1, 1)}\n",
            "---------- ----------\n",
            "Grid search run 50/50:\n",
            "Training with parameters: {'booster': 'gbtree', 'eval_metric': 'auc', 'nthread': 4, 'objective': 'binary:logistic', 'seed': 12345, 'colsample_bytree': 0.7, 'colsample_bylevel': 0.9, 'eta': 0.005, 'max_depth': 5, 'reg_alpha': 0.005, 'reg_lambda': 0.05, 'subsample': 0.7, 'min_child_weight': 5, 'gamma': 0.0, 'monotone_constraints': (1, 1, 1, -1, 1, 1, -1, -1, -1, 1)}\n",
            "---------- ----------\n",
            "Monotonic GBM training completed in 1662.29 s.\n"
          ]
        }
      ],
      "source": [
        "# dictionary of hyperparameter value lists for grid search\n",
        "gs_params = {'colsample_bytree': [0.3, 0.5, 0.7, 0.9],\n",
        "             'colsample_bylevel': [0.3, 0.5, 0.7, 0.9],\n",
        "             'eta': [0.005, 0.05, 0.5],\n",
        "             'max_depth': [3, 5, 7],\n",
        "             'reg_alpha': [0.0005, 0.005, 0.05],\n",
        "             'reg_lambda': [0.0005, 0.005, 0.05],\n",
        "             'subsample': [0.3, 0.5, 0.7, 0.9],\n",
        "             'min_child_weight': [1, 5, 10], \n",
        "             'gamma': [0.0, 0.1, 0.2 , 0.3, 0.4]}\n",
        "\n",
        "# define monotonicity constraints\n",
        "mono_constraints = tuple([int(i) for i in np.sign(train[x_names + [y_name]].corr()[y_name].values[:-1])])\n",
        "\n",
        "# start local timer\n",
        "mxgb_tic = time.time()\n",
        "\n",
        "# Convert data to SVMLight format\n",
        "dtrain = xgb.DMatrix(train[x_names], train[y_name])\n",
        "dvalid = xgb.DMatrix(valid[x_names], valid[y_name])\n",
        "\n",
        "# Monotonic XGBoost grid search\n",
        "best_mxgb = xgb_grid(dtrain, dvalid, gs_params=gs_params, n_models=50, ntree=1000, early_stopping_rounds=100, \n",
        "                     mono_constraints=mono_constraints, seed=SEED)\n",
        "\n",
        "# end local timer\n",
        "mxgb_toc = time.time() - mxgb_tic\n",
        "print('Monotonic GBM training completed in %.2f s.' % (mxgb_toc))"
      ]
    },
    {
      "cell_type": "markdown",
      "id": "a2d6e8e4",
      "metadata": {
        "id": "a2d6e8e4"
      },
      "source": [
        "#### Basic AUC assessment"
      ]
    },
    {
      "cell_type": "code",
      "execution_count": 21,
      "id": "3ce4a042",
      "metadata": {
        "colab": {
          "base_uri": "https://localhost:8080/"
        },
        "id": "3ce4a042",
        "outputId": "bac12a7f-82c7-49fd-f491-f96d77b5875c"
      },
      "outputs": [
        {
          "output_type": "stream",
          "name": "stdout",
          "text": [
            "Validation AUC: 0.7920.\n"
          ]
        }
      ],
      "source": [
        "print('Validation AUC: %.4f.' % best_mxgb.best_score)"
      ]
    },
    {
      "cell_type": "markdown",
      "id": "41e2db7a",
      "metadata": {
        "id": "41e2db7a"
      },
      "source": [
        "#### Score validation data with model"
      ]
    },
    {
      "cell_type": "code",
      "execution_count": 24,
      "id": "35b1471f",
      "metadata": {
        "colab": {
          "base_uri": "https://localhost:8080/",
          "height": 300
        },
        "id": "35b1471f",
        "outputId": "20910a23-1bcd-4f86-eb09-c3ea662827c4"
      },
      "outputs": [
        {
          "output_type": "execute_result",
          "data": {
            "text/plain": [
              "   row_id  black  asian  white  amind  hipac  hispanic  non_hispanic  male  \\\n",
              "0       0    NaN    NaN    NaN    NaN    NaN       NaN           NaN   1.0   \n",
              "1       6    0.0    0.0    1.0    0.0    0.0       0.0           1.0   0.0   \n",
              "2       8    0.0    0.0    1.0    0.0    0.0       0.0           1.0   NaN   \n",
              "3      10    0.0    0.0    1.0    0.0    0.0       0.0           1.0   NaN   \n",
              "4      11    0.0    0.0    1.0    0.0    0.0       1.0           0.0   NaN   \n",
              "\n",
              "   female  ...  debt_to_income_ratio_missing  loan_amount_std  \\\n",
              "0     0.0  ...                             0        -0.514393   \n",
              "1     1.0  ...                             0        -0.426448   \n",
              "2     NaN  ...                             0         0.277109   \n",
              "3     NaN  ...                             0        -0.382476   \n",
              "4     NaN  ...                             0         0.101220   \n",
              "\n",
              "   loan_to_value_ratio_std  no_intro_rate_period_std  intro_rate_period_std  \\\n",
              "0                 0.333922                  0.244394              -0.215304   \n",
              "1                 0.355249                  0.244394              -0.215304   \n",
              "2                 0.142995                  0.244394              -0.215304   \n",
              "3                -0.240432                  0.244394              -0.215304   \n",
              "4                -0.266529                  0.244394              -0.215304   \n",
              "\n",
              "   property_value_std  income_std  debt_to_income_ratio_std  high_priced  \\\n",
              "0           -0.535932   -0.040307                  0.854601            0   \n",
              "1           -0.474263   -0.020904                  1.037419            0   \n",
              "2            0.111598   -0.019865                  0.031916            0   \n",
              "3           -0.320089   -0.028181                  0.946010            0   \n",
              "4            0.111598    0.016515                 -1.156406            0   \n",
              "\n",
              "       phat  \n",
              "0  0.266628  \n",
              "1  0.267633  \n",
              "2  0.031681  \n",
              "3  0.022634  \n",
              "4  0.006938  \n",
              "\n",
              "[5 rows x 24 columns]"
            ],
            "text/html": [
              "\n",
              "  <div id=\"df-cf182557-4399-4e53-993a-698d3c271d1c\">\n",
              "    <div class=\"colab-df-container\">\n",
              "      <div>\n",
              "<style scoped>\n",
              "    .dataframe tbody tr th:only-of-type {\n",
              "        vertical-align: middle;\n",
              "    }\n",
              "\n",
              "    .dataframe tbody tr th {\n",
              "        vertical-align: top;\n",
              "    }\n",
              "\n",
              "    .dataframe thead th {\n",
              "        text-align: right;\n",
              "    }\n",
              "</style>\n",
              "<table border=\"1\" class=\"dataframe\">\n",
              "  <thead>\n",
              "    <tr style=\"text-align: right;\">\n",
              "      <th></th>\n",
              "      <th>row_id</th>\n",
              "      <th>black</th>\n",
              "      <th>asian</th>\n",
              "      <th>white</th>\n",
              "      <th>amind</th>\n",
              "      <th>hipac</th>\n",
              "      <th>hispanic</th>\n",
              "      <th>non_hispanic</th>\n",
              "      <th>male</th>\n",
              "      <th>female</th>\n",
              "      <th>...</th>\n",
              "      <th>debt_to_income_ratio_missing</th>\n",
              "      <th>loan_amount_std</th>\n",
              "      <th>loan_to_value_ratio_std</th>\n",
              "      <th>no_intro_rate_period_std</th>\n",
              "      <th>intro_rate_period_std</th>\n",
              "      <th>property_value_std</th>\n",
              "      <th>income_std</th>\n",
              "      <th>debt_to_income_ratio_std</th>\n",
              "      <th>high_priced</th>\n",
              "      <th>phat</th>\n",
              "    </tr>\n",
              "  </thead>\n",
              "  <tbody>\n",
              "    <tr>\n",
              "      <th>0</th>\n",
              "      <td>0</td>\n",
              "      <td>NaN</td>\n",
              "      <td>NaN</td>\n",
              "      <td>NaN</td>\n",
              "      <td>NaN</td>\n",
              "      <td>NaN</td>\n",
              "      <td>NaN</td>\n",
              "      <td>NaN</td>\n",
              "      <td>1.0</td>\n",
              "      <td>0.0</td>\n",
              "      <td>...</td>\n",
              "      <td>0</td>\n",
              "      <td>-0.514393</td>\n",
              "      <td>0.333922</td>\n",
              "      <td>0.244394</td>\n",
              "      <td>-0.215304</td>\n",
              "      <td>-0.535932</td>\n",
              "      <td>-0.040307</td>\n",
              "      <td>0.854601</td>\n",
              "      <td>0</td>\n",
              "      <td>0.266628</td>\n",
              "    </tr>\n",
              "    <tr>\n",
              "      <th>1</th>\n",
              "      <td>6</td>\n",
              "      <td>0.0</td>\n",
              "      <td>0.0</td>\n",
              "      <td>1.0</td>\n",
              "      <td>0.0</td>\n",
              "      <td>0.0</td>\n",
              "      <td>0.0</td>\n",
              "      <td>1.0</td>\n",
              "      <td>0.0</td>\n",
              "      <td>1.0</td>\n",
              "      <td>...</td>\n",
              "      <td>0</td>\n",
              "      <td>-0.426448</td>\n",
              "      <td>0.355249</td>\n",
              "      <td>0.244394</td>\n",
              "      <td>-0.215304</td>\n",
              "      <td>-0.474263</td>\n",
              "      <td>-0.020904</td>\n",
              "      <td>1.037419</td>\n",
              "      <td>0</td>\n",
              "      <td>0.267633</td>\n",
              "    </tr>\n",
              "    <tr>\n",
              "      <th>2</th>\n",
              "      <td>8</td>\n",
              "      <td>0.0</td>\n",
              "      <td>0.0</td>\n",
              "      <td>1.0</td>\n",
              "      <td>0.0</td>\n",
              "      <td>0.0</td>\n",
              "      <td>0.0</td>\n",
              "      <td>1.0</td>\n",
              "      <td>NaN</td>\n",
              "      <td>NaN</td>\n",
              "      <td>...</td>\n",
              "      <td>0</td>\n",
              "      <td>0.277109</td>\n",
              "      <td>0.142995</td>\n",
              "      <td>0.244394</td>\n",
              "      <td>-0.215304</td>\n",
              "      <td>0.111598</td>\n",
              "      <td>-0.019865</td>\n",
              "      <td>0.031916</td>\n",
              "      <td>0</td>\n",
              "      <td>0.031681</td>\n",
              "    </tr>\n",
              "    <tr>\n",
              "      <th>3</th>\n",
              "      <td>10</td>\n",
              "      <td>0.0</td>\n",
              "      <td>0.0</td>\n",
              "      <td>1.0</td>\n",
              "      <td>0.0</td>\n",
              "      <td>0.0</td>\n",
              "      <td>0.0</td>\n",
              "      <td>1.0</td>\n",
              "      <td>NaN</td>\n",
              "      <td>NaN</td>\n",
              "      <td>...</td>\n",
              "      <td>0</td>\n",
              "      <td>-0.382476</td>\n",
              "      <td>-0.240432</td>\n",
              "      <td>0.244394</td>\n",
              "      <td>-0.215304</td>\n",
              "      <td>-0.320089</td>\n",
              "      <td>-0.028181</td>\n",
              "      <td>0.946010</td>\n",
              "      <td>0</td>\n",
              "      <td>0.022634</td>\n",
              "    </tr>\n",
              "    <tr>\n",
              "      <th>4</th>\n",
              "      <td>11</td>\n",
              "      <td>0.0</td>\n",
              "      <td>0.0</td>\n",
              "      <td>1.0</td>\n",
              "      <td>0.0</td>\n",
              "      <td>0.0</td>\n",
              "      <td>1.0</td>\n",
              "      <td>0.0</td>\n",
              "      <td>NaN</td>\n",
              "      <td>NaN</td>\n",
              "      <td>...</td>\n",
              "      <td>0</td>\n",
              "      <td>0.101220</td>\n",
              "      <td>-0.266529</td>\n",
              "      <td>0.244394</td>\n",
              "      <td>-0.215304</td>\n",
              "      <td>0.111598</td>\n",
              "      <td>0.016515</td>\n",
              "      <td>-1.156406</td>\n",
              "      <td>0</td>\n",
              "      <td>0.006938</td>\n",
              "    </tr>\n",
              "  </tbody>\n",
              "</table>\n",
              "<p>5 rows × 24 columns</p>\n",
              "</div>\n",
              "      <button class=\"colab-df-convert\" onclick=\"convertToInteractive('df-cf182557-4399-4e53-993a-698d3c271d1c')\"\n",
              "              title=\"Convert this dataframe to an interactive table.\"\n",
              "              style=\"display:none;\">\n",
              "        \n",
              "  <svg xmlns=\"http://www.w3.org/2000/svg\" height=\"24px\"viewBox=\"0 0 24 24\"\n",
              "       width=\"24px\">\n",
              "    <path d=\"M0 0h24v24H0V0z\" fill=\"none\"/>\n",
              "    <path d=\"M18.56 5.44l.94 2.06.94-2.06 2.06-.94-2.06-.94-.94-2.06-.94 2.06-2.06.94zm-11 1L8.5 8.5l.94-2.06 2.06-.94-2.06-.94L8.5 2.5l-.94 2.06-2.06.94zm10 10l.94 2.06.94-2.06 2.06-.94-2.06-.94-.94-2.06-.94 2.06-2.06.94z\"/><path d=\"M17.41 7.96l-1.37-1.37c-.4-.4-.92-.59-1.43-.59-.52 0-1.04.2-1.43.59L10.3 9.45l-7.72 7.72c-.78.78-.78 2.05 0 2.83L4 21.41c.39.39.9.59 1.41.59.51 0 1.02-.2 1.41-.59l7.78-7.78 2.81-2.81c.8-.78.8-2.07 0-2.86zM5.41 20L4 18.59l7.72-7.72 1.47 1.35L5.41 20z\"/>\n",
              "  </svg>\n",
              "      </button>\n",
              "      \n",
              "  <style>\n",
              "    .colab-df-container {\n",
              "      display:flex;\n",
              "      flex-wrap:wrap;\n",
              "      gap: 12px;\n",
              "    }\n",
              "\n",
              "    .colab-df-convert {\n",
              "      background-color: #E8F0FE;\n",
              "      border: none;\n",
              "      border-radius: 50%;\n",
              "      cursor: pointer;\n",
              "      display: none;\n",
              "      fill: #1967D2;\n",
              "      height: 32px;\n",
              "      padding: 0 0 0 0;\n",
              "      width: 32px;\n",
              "    }\n",
              "\n",
              "    .colab-df-convert:hover {\n",
              "      background-color: #E2EBFA;\n",
              "      box-shadow: 0px 1px 2px rgba(60, 64, 67, 0.3), 0px 1px 3px 1px rgba(60, 64, 67, 0.15);\n",
              "      fill: #174EA6;\n",
              "    }\n",
              "\n",
              "    [theme=dark] .colab-df-convert {\n",
              "      background-color: #3B4455;\n",
              "      fill: #D2E3FC;\n",
              "    }\n",
              "\n",
              "    [theme=dark] .colab-df-convert:hover {\n",
              "      background-color: #434B5C;\n",
              "      box-shadow: 0px 1px 3px 1px rgba(0, 0, 0, 0.15);\n",
              "      filter: drop-shadow(0px 1px 2px rgba(0, 0, 0, 0.3));\n",
              "      fill: #FFFFFF;\n",
              "    }\n",
              "  </style>\n",
              "\n",
              "      <script>\n",
              "        const buttonEl =\n",
              "          document.querySelector('#df-cf182557-4399-4e53-993a-698d3c271d1c button.colab-df-convert');\n",
              "        buttonEl.style.display =\n",
              "          google.colab.kernel.accessAllowed ? 'block' : 'none';\n",
              "\n",
              "        async function convertToInteractive(key) {\n",
              "          const element = document.querySelector('#df-cf182557-4399-4e53-993a-698d3c271d1c');\n",
              "          const dataTable =\n",
              "            await google.colab.kernel.invokeFunction('convertToInteractive',\n",
              "                                                     [key], {});\n",
              "          if (!dataTable) return;\n",
              "\n",
              "          const docLinkHtml = 'Like what you see? Visit the ' +\n",
              "            '<a target=\"_blank\" href=https://colab.research.google.com/notebooks/data_table.ipynb>data table notebook</a>'\n",
              "            + ' to learn more about interactive tables.';\n",
              "          element.innerHTML = '';\n",
              "          dataTable['output_type'] = 'display_data';\n",
              "          await google.colab.output.renderOutput(dataTable, element);\n",
              "          const docLink = document.createElement('div');\n",
              "          docLink.innerHTML = docLinkHtml;\n",
              "          element.appendChild(docLink);\n",
              "        }\n",
              "      </script>\n",
              "    </div>\n",
              "  </div>\n",
              "  "
            ]
          },
          "metadata": {},
          "execution_count": 24
        }
      ],
      "source": [
        "best_mxgb_phat = pd.DataFrame(best_mxgb.predict(dvalid, ntree_limit=(best_mxgb.best_ntree_limit)), columns=['phat'])\n",
        "best_mxgb_phat = pd.concat([valid.reset_index(drop=True), best_mxgb_phat], axis=1)\n",
        "best_mxgb_phat.head()"
      ]
    },
    {
      "cell_type": "markdown",
      "id": "46240920",
      "metadata": {
        "id": "46240920"
      },
      "source": [
        "#### Select percentiles from predictions"
      ]
    },
    {
      "cell_type": "code",
      "execution_count": 25,
      "id": "43f86448",
      "metadata": {
        "colab": {
          "base_uri": "https://localhost:8080/"
        },
        "id": "43f86448",
        "outputId": "17873abb-eaa2-4c68-bf07-a98375ec62df"
      },
      "outputs": [
        {
          "output_type": "stream",
          "name": "stdout",
          "text": [
            "0: 115088\n",
            "10: 120671\n",
            "20: 78484\n",
            "30: 109030\n",
            "40: 78414\n",
            "50: 104234\n",
            "60: 20770\n",
            "70: 146036\n",
            "80: 20240\n",
            "90: 85936\n",
            "99: 75300\n"
          ]
        }
      ],
      "source": [
        "best_mxgb_percentiles = get_percentile_dict('phat', best_mxgb_phat, 'row_id')\n",
        "for key in sorted(best_mxgb_percentiles.keys()):\n",
        "    print(str(key) + ': ' + str(best_mxgb_percentiles[key]))"
      ]
    },
    {
      "cell_type": "markdown",
      "id": "ce75e163",
      "metadata": {
        "id": "ce75e163"
      },
      "source": [
        "#### Calculate Shapley values"
      ]
    },
    {
      "cell_type": "code",
      "execution_count": 27,
      "id": "9ccd4bbb",
      "metadata": {
        "id": "9ccd4bbb"
      },
      "outputs": [],
      "source": [
        "shapley_contribs = best_mxgb.predict(dvalid, pred_contribs=True, ntree_limit=(best_mxgb.best_ntree_limit))"
      ]
    },
    {
      "cell_type": "markdown",
      "id": "c14f8858",
      "metadata": {
        "id": "c14f8858"
      },
      "source": [
        "#### Collect global feature importance info"
      ]
    },
    {
      "cell_type": "code",
      "execution_count": 28,
      "id": "2598eaa8",
      "metadata": {
        "id": "2598eaa8"
      },
      "outputs": [],
      "source": [
        "# use mean abs SHAP as feature importance\n",
        "shapley_contribs_df = pd.DataFrame(shapley_contribs, columns=x_names + ['intercept'])\n",
        "global_fi['MXGB Importance'] = np.abs(shapley_contribs_df.drop('intercept', axis=1)).mean()"
      ]
    },
    {
      "cell_type": "markdown",
      "id": "fde7fa11",
      "metadata": {
        "id": "fde7fa11"
      },
      "source": [
        "#### Collect local feature importance info"
      ]
    },
    {
      "cell_type": "code",
      "execution_count": 29,
      "id": "012809ab",
      "metadata": {
        "id": "012809ab"
      },
      "outputs": [],
      "source": [
        "# create mapping between validation row_id and Shapely array index values\n",
        "valid_idx_map = valid['row_id'].copy(deep=True)\n",
        "valid_idx_map.reset_index(drop=True, inplace=True)\n",
        "\n",
        "# collect SHAP values at three percentiles of phat\n",
        "for percentile in [10, 50, 90]:\n",
        "\n",
        "    # using valid_idx_map and percentiles dict\n",
        "    # to find the right local contributions\n",
        "    idx = valid_idx_map[valid_idx_map == int(best_mxgb_percentiles[percentile])].index[0]\n",
        "    s_df = pd.DataFrame(shapley_contribs[idx, :-1].T, columns=['MXGB Contribution'], index=x_names)\n",
        "    local_fi_dict[percentile]['MXGB Contribution'] = 0\n",
        "    local_fi_dict[percentile].update(s_df)"
      ]
    },
    {
      "cell_type": "markdown",
      "id": "348b7fb0",
      "metadata": {
        "id": "348b7fb0"
      },
      "source": [
        "### Explainable Boosting Machine"
      ]
    },
    {
      "cell_type": "markdown",
      "id": "223b7489",
      "metadata": {
        "id": "223b7489"
      },
      "source": [
        "#### Define utility function for random grid search"
      ]
    },
    {
      "cell_type": "code",
      "execution_count": 30,
      "id": "9da92af1",
      "metadata": {
        "id": "9da92af1"
      },
      "outputs": [],
      "source": [
        "def ebm_grid(train, valid, x_names, y_name, gs_params=None, n_models=None, early_stopping_rounds=None, seed=None):\n",
        "    \n",
        "    \"\"\" Performs a random grid search over n_models and gs_params.\n",
        "\n",
        "    :param train: Training data as Pandas DataFrame.\n",
        "    :param valid: Validation data as Pandas DataFrame.\n",
        "    :param x_names: Names of input features.\n",
        "    :param y_name: Name of target feature.\n",
        "    :param gs_params: Dictionary of lists of potential EBM parameters over which to search.   \n",
        "    :param n_models: Number of random models to evaluate.\n",
        "    :param early_stopping_rounds: EBM early stopping rounds.\n",
        "    :param seed: Random seed for better interpretability.\n",
        "    :return: Best candidate model from random grid search.\n",
        "\n",
        "    \"\"\"\n",
        "\n",
        "    # cartesian product of gs_params\n",
        "    keys, values = zip(*gs_params.items())\n",
        "    experiments = [dict(zip(keys, v)) for v in itertools.product(*values)]\n",
        "\n",
        "    # preserve exact reproducibility for this function\n",
        "    np.random.seed(SEED) \n",
        "    \n",
        "    # select randomly from cartesian product space\n",
        "    selected_experiments = np.random.choice(len(experiments), n_models)\n",
        "\n",
        "    # set global params for seed, etc.\n",
        "    params = {'n_jobs': NTHREAD,\n",
        "              'early_stopping_rounds': early_stopping_rounds, \n",
        "              'random_state': SEED}\n",
        "\n",
        "    # init grid search loop\n",
        "    best_candidate = None\n",
        "    best_score = 0\n",
        "\n",
        "    # grid search loop\n",
        "    for i, exp in enumerate(selected_experiments):\n",
        "\n",
        "        params.update(experiments[exp])  # override global params with current grid run params\n",
        "\n",
        "        print('Grid search run %d/%d:' % (int(i + 1), int(n_models)))\n",
        "        print('Training with parameters:', params)\n",
        "        \n",
        "        # train \n",
        "        ebm = ExplainableBoostingClassifier(**params)\n",
        "        candidate = ebm.fit(train[x_names], train[y_name]) \n",
        "        \n",
        "        # calculate AUC\n",
        "        ebm_perf = ROC(ebm.predict_proba).explain_perf(valid[x_names], valid[y_name])\n",
        "        candidate_best_score = ebm_perf._internal_obj['overall']['auc']\n",
        "    \n",
        "        # determine if current model is better than previous best\n",
        "        if candidate_best_score > best_score:\n",
        "            best_candidate = candidate\n",
        "            best_score = candidate_best_score\n",
        "            print('Grid search new best score discovered at iteration %d/%d: %.4f.' %\n",
        "                             (int(i + 1), int(n_models), candidate_best_score))\n",
        "\n",
        "        print('---------- ----------')\n",
        "        \n",
        "        del ebm\n",
        "            \n",
        "    return best_candidate"
      ]
    },
    {
      "cell_type": "markdown",
      "id": "2aee422c",
      "metadata": {
        "id": "2aee422c"
      },
      "source": [
        "#### Fit EBM with random grid search"
      ]
    },
    {
      "cell_type": "code",
      "execution_count": 31,
      "id": "f8e7edc7",
      "metadata": {
        "scrolled": true,
        "colab": {
          "base_uri": "https://localhost:8080/"
        },
        "id": "f8e7edc7",
        "outputId": "257b9520-003e-4945-a4eb-e2cc35285b8a"
      },
      "outputs": [
        {
          "output_type": "stream",
          "name": "stdout",
          "text": [
            "Grid search run 1/10:\n",
            "Training with parameters: {'n_jobs': 4, 'early_stopping_rounds': 100, 'random_state': 12345, 'max_bins': 512, 'max_interaction_bins': 16, 'interactions': 5, 'outer_bags': 4, 'inner_bags': 0, 'learning_rate': 0.05, 'validation_size': 0.25, 'min_samples_leaf': 1, 'max_leaves': 3}\n",
            "Grid search new best score discovered at iteration 1/10: 0.8215.\n",
            "---------- ----------\n",
            "Grid search run 2/10:\n",
            "Training with parameters: {'n_jobs': 4, 'early_stopping_rounds': 100, 'random_state': 12345, 'max_bins': 128, 'max_interaction_bins': 32, 'interactions': 5, 'outer_bags': 8, 'inner_bags': 0, 'learning_rate': 0.001, 'validation_size': 0.25, 'min_samples_leaf': 2, 'max_leaves': 5}\n",
            "---------- ----------\n",
            "Grid search run 3/10:\n",
            "Training with parameters: {'n_jobs': 4, 'early_stopping_rounds': 100, 'random_state': 12345, 'max_bins': 512, 'max_interaction_bins': 16, 'interactions': 5, 'outer_bags': 4, 'inner_bags': 0, 'learning_rate': 0.001, 'validation_size': 0.5, 'min_samples_leaf': 1, 'max_leaves': 3}\n",
            "---------- ----------\n",
            "Grid search run 4/10:\n",
            "Training with parameters: {'n_jobs': 4, 'early_stopping_rounds': 100, 'random_state': 12345, 'max_bins': 128, 'max_interaction_bins': 64, 'interactions': 5, 'outer_bags': 4, 'inner_bags': 4, 'learning_rate': 0.05, 'validation_size': 0.5, 'min_samples_leaf': 1, 'max_leaves': 5}\n",
            "---------- ----------\n",
            "Grid search run 5/10:\n",
            "Training with parameters: {'n_jobs': 4, 'early_stopping_rounds': 100, 'random_state': 12345, 'max_bins': 512, 'max_interaction_bins': 64, 'interactions': 15, 'outer_bags': 4, 'inner_bags': 0, 'learning_rate': 0.05, 'validation_size': 0.1, 'min_samples_leaf': 10, 'max_leaves': 3}\n",
            "Grid search new best score discovered at iteration 5/10: 0.8249.\n",
            "---------- ----------\n",
            "Grid search run 6/10:\n",
            "Training with parameters: {'n_jobs': 4, 'early_stopping_rounds': 100, 'random_state': 12345, 'max_bins': 256, 'max_interaction_bins': 16, 'interactions': 15, 'outer_bags': 12, 'inner_bags': 4, 'learning_rate': 0.01, 'validation_size': 0.1, 'min_samples_leaf': 2, 'max_leaves': 5}\n",
            "---------- ----------\n",
            "Grid search run 7/10:\n",
            "Training with parameters: {'n_jobs': 4, 'early_stopping_rounds': 100, 'random_state': 12345, 'max_bins': 512, 'max_interaction_bins': 32, 'interactions': 15, 'outer_bags': 4, 'inner_bags': 4, 'learning_rate': 0.05, 'validation_size': 0.25, 'min_samples_leaf': 10, 'max_leaves': 1}\n",
            "---------- ----------\n",
            "Grid search run 8/10:\n",
            "Training with parameters: {'n_jobs': 4, 'early_stopping_rounds': 100, 'random_state': 12345, 'max_bins': 256, 'max_interaction_bins': 16, 'interactions': 15, 'outer_bags': 8, 'inner_bags': 4, 'learning_rate': 0.001, 'validation_size': 0.5, 'min_samples_leaf': 5, 'max_leaves': 3}\n",
            "---------- ----------\n",
            "Grid search run 9/10:\n",
            "Training with parameters: {'n_jobs': 4, 'early_stopping_rounds': 100, 'random_state': 12345, 'max_bins': 256, 'max_interaction_bins': 16, 'interactions': 10, 'outer_bags': 8, 'inner_bags': 0, 'learning_rate': 0.05, 'validation_size': 0.5, 'min_samples_leaf': 5, 'max_leaves': 1}\n",
            "---------- ----------\n",
            "Grid search run 10/10:\n",
            "Training with parameters: {'n_jobs': 4, 'early_stopping_rounds': 100, 'random_state': 12345, 'max_bins': 512, 'max_interaction_bins': 64, 'interactions': 5, 'outer_bags': 4, 'inner_bags': 0, 'learning_rate': 0.001, 'validation_size': 0.25, 'min_samples_leaf': 2, 'max_leaves': 3}\n",
            "---------- ----------\n",
            "EBM training completed in 1608.94 s.\n"
          ]
        }
      ],
      "source": [
        "# dictionary of hyperparameter value lists for grid search\n",
        "gs_params = {'max_bins': [128, 256, 512],\n",
        "             'max_interaction_bins': [16, 32, 64],\n",
        "             'interactions': [5, 10, 15],\n",
        "             'outer_bags': [4, 8, 12], \n",
        "             'inner_bags': [0, 4],\n",
        "             'learning_rate': [0.001, 0.01, 0.05],\n",
        "             'validation_size': [0.1, 0.25, 0.5],\n",
        "             'min_samples_leaf': [1, 2, 5, 10],\n",
        "             'max_leaves': [1, 3, 5]}\n",
        "\n",
        "# start local timer\n",
        "ebm_tic = time.time()\n",
        "\n",
        "# EBM grid search\n",
        "best_ebm = ebm_grid(train, valid, x_names, y_name, gs_params=gs_params, n_models=10, \n",
        "                    early_stopping_rounds=100, seed=SEED)\n",
        "\n",
        "# end local timer\n",
        "ebm_toc = time.time() - ebm_tic\n",
        "print('EBM training completed in %.2f s.' % (ebm_toc))"
      ]
    },
    {
      "cell_type": "markdown",
      "id": "0248d5c2",
      "metadata": {
        "id": "0248d5c2"
      },
      "source": [
        "#### Basic AUC assessment"
      ]
    },
    {
      "cell_type": "code",
      "execution_count": 32,
      "id": "cd8c96fb",
      "metadata": {
        "colab": {
          "base_uri": "https://localhost:8080/"
        },
        "id": "cd8c96fb",
        "outputId": "a3a45604-1302-4cf4-a326-3649ed23b921"
      },
      "outputs": [
        {
          "output_type": "stream",
          "name": "stdout",
          "text": [
            "Validation AUC: 0.8249.\n"
          ]
        }
      ],
      "source": [
        "best_ebm_perf = ROC(best_ebm.predict_proba).explain_perf(valid[x_names], valid[y_name])\n",
        "print('Validation AUC: %.4f.' % best_ebm_perf._internal_obj['overall']['auc'])"
      ]
    },
    {
      "cell_type": "markdown",
      "id": "e2814a0a",
      "metadata": {
        "id": "e2814a0a"
      },
      "source": [
        "#### Score validation data with model"
      ]
    },
    {
      "cell_type": "code",
      "execution_count": 33,
      "id": "5f39bae7",
      "metadata": {
        "colab": {
          "base_uri": "https://localhost:8080/",
          "height": 300
        },
        "id": "5f39bae7",
        "outputId": "5dbd83f9-4011-4062-e8bc-f7c60c903ce2"
      },
      "outputs": [
        {
          "output_type": "execute_result",
          "data": {
            "text/plain": [
              "   row_id  black  asian  white  amind  hipac  hispanic  non_hispanic  male  \\\n",
              "0       0    NaN    NaN    NaN    NaN    NaN       NaN           NaN   1.0   \n",
              "1       6    0.0    0.0    1.0    0.0    0.0       0.0           1.0   0.0   \n",
              "2       8    0.0    0.0    1.0    0.0    0.0       0.0           1.0   NaN   \n",
              "3      10    0.0    0.0    1.0    0.0    0.0       0.0           1.0   NaN   \n",
              "4      11    0.0    0.0    1.0    0.0    0.0       1.0           0.0   NaN   \n",
              "\n",
              "   female  ...  debt_to_income_ratio_missing  loan_amount_std  \\\n",
              "0     0.0  ...                             0        -0.514393   \n",
              "1     1.0  ...                             0        -0.426448   \n",
              "2     NaN  ...                             0         0.277109   \n",
              "3     NaN  ...                             0        -0.382476   \n",
              "4     NaN  ...                             0         0.101220   \n",
              "\n",
              "   loan_to_value_ratio_std  no_intro_rate_period_std  intro_rate_period_std  \\\n",
              "0                 0.333922                  0.244394              -0.215304   \n",
              "1                 0.355249                  0.244394              -0.215304   \n",
              "2                 0.142995                  0.244394              -0.215304   \n",
              "3                -0.240432                  0.244394              -0.215304   \n",
              "4                -0.266529                  0.244394              -0.215304   \n",
              "\n",
              "   property_value_std  income_std  debt_to_income_ratio_std  high_priced  \\\n",
              "0           -0.535932   -0.040307                  0.854601            0   \n",
              "1           -0.474263   -0.020904                  1.037419            0   \n",
              "2            0.111598   -0.019865                  0.031916            0   \n",
              "3           -0.320089   -0.028181                  0.946010            0   \n",
              "4            0.111598    0.016515                 -1.156406            0   \n",
              "\n",
              "       phat  \n",
              "0  0.171311  \n",
              "1  0.323608  \n",
              "2  0.023545  \n",
              "3  0.016156  \n",
              "4  0.004101  \n",
              "\n",
              "[5 rows x 24 columns]"
            ],
            "text/html": [
              "\n",
              "  <div id=\"df-ae1d22b7-8121-48a9-b384-c3e0f22033c8\">\n",
              "    <div class=\"colab-df-container\">\n",
              "      <div>\n",
              "<style scoped>\n",
              "    .dataframe tbody tr th:only-of-type {\n",
              "        vertical-align: middle;\n",
              "    }\n",
              "\n",
              "    .dataframe tbody tr th {\n",
              "        vertical-align: top;\n",
              "    }\n",
              "\n",
              "    .dataframe thead th {\n",
              "        text-align: right;\n",
              "    }\n",
              "</style>\n",
              "<table border=\"1\" class=\"dataframe\">\n",
              "  <thead>\n",
              "    <tr style=\"text-align: right;\">\n",
              "      <th></th>\n",
              "      <th>row_id</th>\n",
              "      <th>black</th>\n",
              "      <th>asian</th>\n",
              "      <th>white</th>\n",
              "      <th>amind</th>\n",
              "      <th>hipac</th>\n",
              "      <th>hispanic</th>\n",
              "      <th>non_hispanic</th>\n",
              "      <th>male</th>\n",
              "      <th>female</th>\n",
              "      <th>...</th>\n",
              "      <th>debt_to_income_ratio_missing</th>\n",
              "      <th>loan_amount_std</th>\n",
              "      <th>loan_to_value_ratio_std</th>\n",
              "      <th>no_intro_rate_period_std</th>\n",
              "      <th>intro_rate_period_std</th>\n",
              "      <th>property_value_std</th>\n",
              "      <th>income_std</th>\n",
              "      <th>debt_to_income_ratio_std</th>\n",
              "      <th>high_priced</th>\n",
              "      <th>phat</th>\n",
              "    </tr>\n",
              "  </thead>\n",
              "  <tbody>\n",
              "    <tr>\n",
              "      <th>0</th>\n",
              "      <td>0</td>\n",
              "      <td>NaN</td>\n",
              "      <td>NaN</td>\n",
              "      <td>NaN</td>\n",
              "      <td>NaN</td>\n",
              "      <td>NaN</td>\n",
              "      <td>NaN</td>\n",
              "      <td>NaN</td>\n",
              "      <td>1.0</td>\n",
              "      <td>0.0</td>\n",
              "      <td>...</td>\n",
              "      <td>0</td>\n",
              "      <td>-0.514393</td>\n",
              "      <td>0.333922</td>\n",
              "      <td>0.244394</td>\n",
              "      <td>-0.215304</td>\n",
              "      <td>-0.535932</td>\n",
              "      <td>-0.040307</td>\n",
              "      <td>0.854601</td>\n",
              "      <td>0</td>\n",
              "      <td>0.171311</td>\n",
              "    </tr>\n",
              "    <tr>\n",
              "      <th>1</th>\n",
              "      <td>6</td>\n",
              "      <td>0.0</td>\n",
              "      <td>0.0</td>\n",
              "      <td>1.0</td>\n",
              "      <td>0.0</td>\n",
              "      <td>0.0</td>\n",
              "      <td>0.0</td>\n",
              "      <td>1.0</td>\n",
              "      <td>0.0</td>\n",
              "      <td>1.0</td>\n",
              "      <td>...</td>\n",
              "      <td>0</td>\n",
              "      <td>-0.426448</td>\n",
              "      <td>0.355249</td>\n",
              "      <td>0.244394</td>\n",
              "      <td>-0.215304</td>\n",
              "      <td>-0.474263</td>\n",
              "      <td>-0.020904</td>\n",
              "      <td>1.037419</td>\n",
              "      <td>0</td>\n",
              "      <td>0.323608</td>\n",
              "    </tr>\n",
              "    <tr>\n",
              "      <th>2</th>\n",
              "      <td>8</td>\n",
              "      <td>0.0</td>\n",
              "      <td>0.0</td>\n",
              "      <td>1.0</td>\n",
              "      <td>0.0</td>\n",
              "      <td>0.0</td>\n",
              "      <td>0.0</td>\n",
              "      <td>1.0</td>\n",
              "      <td>NaN</td>\n",
              "      <td>NaN</td>\n",
              "      <td>...</td>\n",
              "      <td>0</td>\n",
              "      <td>0.277109</td>\n",
              "      <td>0.142995</td>\n",
              "      <td>0.244394</td>\n",
              "      <td>-0.215304</td>\n",
              "      <td>0.111598</td>\n",
              "      <td>-0.019865</td>\n",
              "      <td>0.031916</td>\n",
              "      <td>0</td>\n",
              "      <td>0.023545</td>\n",
              "    </tr>\n",
              "    <tr>\n",
              "      <th>3</th>\n",
              "      <td>10</td>\n",
              "      <td>0.0</td>\n",
              "      <td>0.0</td>\n",
              "      <td>1.0</td>\n",
              "      <td>0.0</td>\n",
              "      <td>0.0</td>\n",
              "      <td>0.0</td>\n",
              "      <td>1.0</td>\n",
              "      <td>NaN</td>\n",
              "      <td>NaN</td>\n",
              "      <td>...</td>\n",
              "      <td>0</td>\n",
              "      <td>-0.382476</td>\n",
              "      <td>-0.240432</td>\n",
              "      <td>0.244394</td>\n",
              "      <td>-0.215304</td>\n",
              "      <td>-0.320089</td>\n",
              "      <td>-0.028181</td>\n",
              "      <td>0.946010</td>\n",
              "      <td>0</td>\n",
              "      <td>0.016156</td>\n",
              "    </tr>\n",
              "    <tr>\n",
              "      <th>4</th>\n",
              "      <td>11</td>\n",
              "      <td>0.0</td>\n",
              "      <td>0.0</td>\n",
              "      <td>1.0</td>\n",
              "      <td>0.0</td>\n",
              "      <td>0.0</td>\n",
              "      <td>1.0</td>\n",
              "      <td>0.0</td>\n",
              "      <td>NaN</td>\n",
              "      <td>NaN</td>\n",
              "      <td>...</td>\n",
              "      <td>0</td>\n",
              "      <td>0.101220</td>\n",
              "      <td>-0.266529</td>\n",
              "      <td>0.244394</td>\n",
              "      <td>-0.215304</td>\n",
              "      <td>0.111598</td>\n",
              "      <td>0.016515</td>\n",
              "      <td>-1.156406</td>\n",
              "      <td>0</td>\n",
              "      <td>0.004101</td>\n",
              "    </tr>\n",
              "  </tbody>\n",
              "</table>\n",
              "<p>5 rows × 24 columns</p>\n",
              "</div>\n",
              "      <button class=\"colab-df-convert\" onclick=\"convertToInteractive('df-ae1d22b7-8121-48a9-b384-c3e0f22033c8')\"\n",
              "              title=\"Convert this dataframe to an interactive table.\"\n",
              "              style=\"display:none;\">\n",
              "        \n",
              "  <svg xmlns=\"http://www.w3.org/2000/svg\" height=\"24px\"viewBox=\"0 0 24 24\"\n",
              "       width=\"24px\">\n",
              "    <path d=\"M0 0h24v24H0V0z\" fill=\"none\"/>\n",
              "    <path d=\"M18.56 5.44l.94 2.06.94-2.06 2.06-.94-2.06-.94-.94-2.06-.94 2.06-2.06.94zm-11 1L8.5 8.5l.94-2.06 2.06-.94-2.06-.94L8.5 2.5l-.94 2.06-2.06.94zm10 10l.94 2.06.94-2.06 2.06-.94-2.06-.94-.94-2.06-.94 2.06-2.06.94z\"/><path d=\"M17.41 7.96l-1.37-1.37c-.4-.4-.92-.59-1.43-.59-.52 0-1.04.2-1.43.59L10.3 9.45l-7.72 7.72c-.78.78-.78 2.05 0 2.83L4 21.41c.39.39.9.59 1.41.59.51 0 1.02-.2 1.41-.59l7.78-7.78 2.81-2.81c.8-.78.8-2.07 0-2.86zM5.41 20L4 18.59l7.72-7.72 1.47 1.35L5.41 20z\"/>\n",
              "  </svg>\n",
              "      </button>\n",
              "      \n",
              "  <style>\n",
              "    .colab-df-container {\n",
              "      display:flex;\n",
              "      flex-wrap:wrap;\n",
              "      gap: 12px;\n",
              "    }\n",
              "\n",
              "    .colab-df-convert {\n",
              "      background-color: #E8F0FE;\n",
              "      border: none;\n",
              "      border-radius: 50%;\n",
              "      cursor: pointer;\n",
              "      display: none;\n",
              "      fill: #1967D2;\n",
              "      height: 32px;\n",
              "      padding: 0 0 0 0;\n",
              "      width: 32px;\n",
              "    }\n",
              "\n",
              "    .colab-df-convert:hover {\n",
              "      background-color: #E2EBFA;\n",
              "      box-shadow: 0px 1px 2px rgba(60, 64, 67, 0.3), 0px 1px 3px 1px rgba(60, 64, 67, 0.15);\n",
              "      fill: #174EA6;\n",
              "    }\n",
              "\n",
              "    [theme=dark] .colab-df-convert {\n",
              "      background-color: #3B4455;\n",
              "      fill: #D2E3FC;\n",
              "    }\n",
              "\n",
              "    [theme=dark] .colab-df-convert:hover {\n",
              "      background-color: #434B5C;\n",
              "      box-shadow: 0px 1px 3px 1px rgba(0, 0, 0, 0.15);\n",
              "      filter: drop-shadow(0px 1px 2px rgba(0, 0, 0, 0.3));\n",
              "      fill: #FFFFFF;\n",
              "    }\n",
              "  </style>\n",
              "\n",
              "      <script>\n",
              "        const buttonEl =\n",
              "          document.querySelector('#df-ae1d22b7-8121-48a9-b384-c3e0f22033c8 button.colab-df-convert');\n",
              "        buttonEl.style.display =\n",
              "          google.colab.kernel.accessAllowed ? 'block' : 'none';\n",
              "\n",
              "        async function convertToInteractive(key) {\n",
              "          const element = document.querySelector('#df-ae1d22b7-8121-48a9-b384-c3e0f22033c8');\n",
              "          const dataTable =\n",
              "            await google.colab.kernel.invokeFunction('convertToInteractive',\n",
              "                                                     [key], {});\n",
              "          if (!dataTable) return;\n",
              "\n",
              "          const docLinkHtml = 'Like what you see? Visit the ' +\n",
              "            '<a target=\"_blank\" href=https://colab.research.google.com/notebooks/data_table.ipynb>data table notebook</a>'\n",
              "            + ' to learn more about interactive tables.';\n",
              "          element.innerHTML = '';\n",
              "          dataTable['output_type'] = 'display_data';\n",
              "          await google.colab.output.renderOutput(dataTable, element);\n",
              "          const docLink = document.createElement('div');\n",
              "          docLink.innerHTML = docLinkHtml;\n",
              "          element.appendChild(docLink);\n",
              "        }\n",
              "      </script>\n",
              "    </div>\n",
              "  </div>\n",
              "  "
            ]
          },
          "metadata": {},
          "execution_count": 33
        }
      ],
      "source": [
        "best_ebm_phat = pd.DataFrame(best_ebm.predict_proba(valid[x_names])[:, 1], columns=['phat']) \n",
        "best_ebm_phat = pd.concat([valid.reset_index(drop=True), best_ebm_phat], axis=1)\n",
        "best_ebm_phat.head()"
      ]
    },
    {
      "cell_type": "markdown",
      "id": "81fcf191",
      "metadata": {
        "id": "81fcf191"
      },
      "source": [
        "#### Select percentiles from predictions"
      ]
    },
    {
      "cell_type": "code",
      "execution_count": 34,
      "id": "0cb9c8a4",
      "metadata": {
        "colab": {
          "base_uri": "https://localhost:8080/"
        },
        "id": "0cb9c8a4",
        "outputId": "1a5b5679-5054-47ba-e668-eca48bc039dc"
      },
      "outputs": [
        {
          "output_type": "stream",
          "name": "stdout",
          "text": [
            "0: 112323\n",
            "10: 143152\n",
            "20: 144032\n",
            "30: 138131\n",
            "40: 113514\n",
            "50: 80162\n",
            "60: 138050\n",
            "70: 144678\n",
            "80: 6501\n",
            "90: 36383\n",
            "99: 33940\n"
          ]
        }
      ],
      "source": [
        "best_ebm_percentiles = get_percentile_dict('phat', best_ebm_phat, 'row_id')\n",
        "for key in sorted(best_ebm_percentiles.keys()):\n",
        "    print(str(key) + ': ' + str(best_ebm_percentiles[key]))"
      ]
    },
    {
      "cell_type": "markdown",
      "id": "578ae05a",
      "metadata": {
        "id": "578ae05a"
      },
      "source": [
        "#### Calculate EBM contributions"
      ]
    },
    {
      "cell_type": "code",
      "execution_count": 35,
      "id": "0361a520",
      "metadata": {
        "colab": {
          "base_uri": "https://localhost:8080/"
        },
        "id": "0361a520",
        "outputId": "9a970d9d-ac8b-4a66-d95e-f4477b68a77a"
      },
      "outputs": [
        {
          "output_type": "stream",
          "name": "stdout",
          "text": [
            "EBM contributions collected in 119.55 s.\n"
          ]
        }
      ],
      "source": [
        "# start local timer\n",
        "ebm_tic = time.time()\n",
        "\n",
        "# use EBM feature scores as local importance\n",
        "# use mean abs score as global importance\n",
        "best_ebm_contribs = best_ebm.explain_local(valid[x_names])\n",
        "names = best_ebm_contribs._internal_obj['specific'][0]['names']\n",
        "best_ebm_contribs_df = pd.DataFrame(columns=names)\n",
        "\n",
        "# extract scores from insane _internal_obj\n",
        "# new versions just have predict_and_explain() function\n",
        "# use that if you can\n",
        "for i in range(0, valid.shape[0]):\n",
        "    row_df = pd.DataFrame(np.array(best_ebm_contribs._internal_obj['specific'][i]['scores']).reshape(1, 25), columns=names)\n",
        "    best_ebm_contribs_df = best_ebm_contribs_df.append(row_df, ignore_index=True)\n",
        "    del row_df\n",
        "    \n",
        "# end local timer\n",
        "ebm_toc = time.time() - ebm_tic\n",
        "print('EBM contributions collected in %.2f s.' % (ebm_toc))"
      ]
    },
    {
      "cell_type": "markdown",
      "id": "2c511f54",
      "metadata": {
        "id": "2c511f54"
      },
      "source": [
        "#### Collect global feature importance info"
      ]
    },
    {
      "cell_type": "code",
      "execution_count": 36,
      "id": "bac63974",
      "metadata": {
        "id": "bac63974"
      },
      "outputs": [],
      "source": [
        "global_fi['EBM Importance'] = np.abs(best_ebm_contribs_df).mean()"
      ]
    },
    {
      "cell_type": "markdown",
      "id": "d1561ff1",
      "metadata": {
        "id": "d1561ff1"
      },
      "source": [
        "#### Collect local feature importance info"
      ]
    },
    {
      "cell_type": "code",
      "execution_count": 37,
      "id": "4b3d79ea",
      "metadata": {
        "id": "4b3d79ea"
      },
      "outputs": [],
      "source": [
        "# extract scores at three percentiles of phat\n",
        "for percentile in [10, 50, 90]:\n",
        " \n",
        "    # using valid_idx_map and percentiles dict\n",
        "    # to find the right local contributions\n",
        "    idx = valid_idx_map[valid_idx_map == int(best_ebm_percentiles[percentile])].index[0]\n",
        "    s_df = best_ebm_contribs_df.iloc[idx, :len(x_names)].T\n",
        "    s_df.columns = ['EBM Contribution']\n",
        "    local_fi_dict[percentile]['EBM Contribution'] = s_df"
      ]
    },
    {
      "cell_type": "markdown",
      "id": "ce209310",
      "metadata": {
        "id": "ce209310"
      },
      "source": [
        "## Analyze feature importance"
      ]
    },
    {
      "cell_type": "markdown",
      "id": "7bc90e28",
      "metadata": {
        "id": "7bc90e28"
      },
      "source": [
        "#### Compare global feature importance across models"
      ]
    },
    {
      "cell_type": "code",
      "source": [
        "pip uninstall matplotlib"
      ],
      "metadata": {
        "colab": {
          "base_uri": "https://localhost:8080/"
        },
        "id": "433ew31C3DeZ",
        "outputId": "be90b07a-0249-4dff-ce26-fb9a6fc77cbd"
      },
      "id": "433ew31C3DeZ",
      "execution_count": 38,
      "outputs": [
        {
          "output_type": "stream",
          "name": "stdout",
          "text": [
            "Found existing installation: matplotlib 3.2.2\n",
            "Uninstalling matplotlib-3.2.2:\n",
            "  Would remove:\n",
            "    /usr/local/lib/python3.7/dist-packages/matplotlib-3.2.2-py3.7-nspkg.pth\n",
            "    /usr/local/lib/python3.7/dist-packages/matplotlib-3.2.2.dist-info/*\n",
            "    /usr/local/lib/python3.7/dist-packages/matplotlib.libs/libpng16-cfdb1654.so.16.21.0\n",
            "    /usr/local/lib/python3.7/dist-packages/matplotlib.libs/libz-a147dcb0.so.1.2.3\n",
            "    /usr/local/lib/python3.7/dist-packages/matplotlib/*\n",
            "    /usr/local/lib/python3.7/dist-packages/mpl_toolkits/axes_grid/*\n",
            "    /usr/local/lib/python3.7/dist-packages/mpl_toolkits/axes_grid1/*\n",
            "    /usr/local/lib/python3.7/dist-packages/mpl_toolkits/axisartist/*\n",
            "    /usr/local/lib/python3.7/dist-packages/mpl_toolkits/mplot3d/*\n",
            "    /usr/local/lib/python3.7/dist-packages/mpl_toolkits/tests/*\n",
            "    /usr/local/lib/python3.7/dist-packages/pylab.py\n",
            "Proceed (y/n)? Traceback (most recent call last):\n",
            "  File \"/usr/local/lib/python3.7/dist-packages/pip/_internal/cli/base_command.py\", line 180, in _main\n",
            "    status = self.run(options, args)\n",
            "  File \"/usr/local/lib/python3.7/dist-packages/pip/_internal/commands/uninstall.py\", line 86, in run\n",
            "    auto_confirm=options.yes, verbose=self.verbosity > 0,\n",
            "  File \"/usr/local/lib/python3.7/dist-packages/pip/_internal/req/req_install.py\", line 658, in uninstall\n",
            "    uninstalled_pathset.remove(auto_confirm, verbose)\n",
            "  File \"/usr/local/lib/python3.7/dist-packages/pip/_internal/req/req_uninstall.py\", line 380, in remove\n",
            "    if auto_confirm or self._allowed_to_proceed(verbose):\n",
            "  File \"/usr/local/lib/python3.7/dist-packages/pip/_internal/req/req_uninstall.py\", line 423, in _allowed_to_proceed\n",
            "    return ask('Proceed (y/n)? ', ('y', 'n')) == 'y'\n",
            "  File \"/usr/local/lib/python3.7/dist-packages/pip/_internal/utils/misc.py\", line 203, in ask\n",
            "    response = input(message)\n",
            "KeyboardInterrupt\n",
            "\n",
            "During handling of the above exception, another exception occurred:\n",
            "\n",
            "Traceback (most recent call last):\n",
            "  File \"/usr/local/bin/pip3\", line 8, in <module>\n",
            "    sys.exit(main())\n",
            "  File \"/usr/local/lib/python3.7/dist-packages/pip/_internal/cli/main.py\", line 71, in main\n",
            "    return command.main(cmd_args)\n",
            "  File \"/usr/local/lib/python3.7/dist-packages/pip/_internal/cli/base_command.py\", line 104, in main\n",
            "    return self._main(args)\n",
            "  File \"/usr/local/lib/python3.7/dist-packages/pip/_internal/cli/base_command.py\", line 212, in _main\n",
            "    logger.critical(\"Operation cancelled by user\")\n",
            "  File \"/usr/lib/python3.7/logging/__init__.py\", line 1425, in critical\n",
            "    self._log(CRITICAL, msg, args, **kwargs)\n",
            "  File \"/usr/lib/python3.7/logging/__init__.py\", line 1513, in _log\n",
            "    exc_info, func, extra, sinfo)\n",
            "  File \"/usr/lib/python3.7/logging/__init__.py\", line 1483, in makeRecord\n",
            "    sinfo)\n",
            "  File \"/usr/lib/python3.7/logging/__init__.py\", line 317, in __init__\n",
            "    self.module = os.path.splitext(self.filename)[0]\n",
            "KeyboardInterrupt\n"
          ]
        }
      ]
    },
    {
      "cell_type": "code",
      "source": [
        "pip install matplotlib==3.1.3"
      ],
      "metadata": {
        "colab": {
          "base_uri": "https://localhost:8080/",
          "height": 401
        },
        "id": "madO5I8E3IV1",
        "outputId": "6bd79881-549d-4cf2-9492-f5b4f4b4edb9"
      },
      "id": "madO5I8E3IV1",
      "execution_count": null,
      "outputs": [
        {
          "output_type": "stream",
          "name": "stdout",
          "text": [
            "Looking in indexes: https://pypi.org/simple, https://us-python.pkg.dev/colab-wheels/public/simple/\n",
            "Collecting matplotlib==3.1.3\n",
            "  Downloading matplotlib-3.1.3-cp37-cp37m-manylinux1_x86_64.whl (13.1 MB)\n",
            "     |████████████████████████████████| 13.1 MB 2.0 MB/s \n",
            "\u001b[?25hRequirement already satisfied: kiwisolver>=1.0.1 in /usr/local/lib/python3.7/dist-packages (from matplotlib==3.1.3) (1.4.2)\n",
            "Requirement already satisfied: python-dateutil>=2.1 in /usr/local/lib/python3.7/dist-packages (from matplotlib==3.1.3) (2.8.2)\n",
            "Requirement already satisfied: numpy>=1.11 in /usr/local/lib/python3.7/dist-packages (from matplotlib==3.1.3) (1.19.5)\n",
            "Requirement already satisfied: pyparsing!=2.0.4,!=2.1.2,!=2.1.6,>=2.0.1 in /usr/local/lib/python3.7/dist-packages (from matplotlib==3.1.3) (3.0.9)\n",
            "Requirement already satisfied: cycler>=0.10 in /usr/local/lib/python3.7/dist-packages (from matplotlib==3.1.3) (0.11.0)\n",
            "Requirement already satisfied: typing-extensions in /usr/local/lib/python3.7/dist-packages (from kiwisolver>=1.0.1->matplotlib==3.1.3) (4.2.0)\n",
            "Requirement already satisfied: six>=1.5 in /usr/local/lib/python3.7/dist-packages (from python-dateutil>=2.1->matplotlib==3.1.3) (1.15.0)\n",
            "Installing collected packages: matplotlib\n",
            "ERROR: pip's dependency resolver does not currently take into account all the packages that are installed. This behaviour is the source of the following dependency conflicts.\n",
            "yellowbrick 1.4 requires scikit-learn>=1.0.0, but you have scikit-learn 0.24.2 which is incompatible.\n",
            "albumentations 0.1.12 requires imgaug<0.2.7,>=0.2.5, but you have imgaug 0.2.9 which is incompatible.\n",
            "Successfully installed matplotlib-3.1.3\n"
          ]
        },
        {
          "output_type": "display_data",
          "data": {
            "application/vnd.colab-display-data+json": {
              "pip_warning": {
                "packages": [
                  "matplotlib",
                  "mpl_toolkits"
                ]
              }
            }
          },
          "metadata": {}
        }
      ]
    },
    {
      "cell_type": "code",
      "execution_count": 39,
      "id": "ff43a195",
      "metadata": {
        "colab": {
          "base_uri": "https://localhost:8080/",
          "height": 450
        },
        "id": "ff43a195",
        "outputId": "ab4dcbc5-5999-45ef-a10c-e2c84d9b7cdf"
      },
      "outputs": [
        {
          "output_type": "display_data",
          "data": {
            "text/plain": [
              "<Figure size 432x288 with 3 Axes>"
            ],
            "image/png": "[encoded data removed]"
          },
          "metadata": {
            "needs_background": "light"
          }
        }
      ],
      "source": [
        "# init 3-pane plot \n",
        "fig, (ax0, ax1, ax2) = plt.subplots(ncols=3)\n",
        "plt.tight_layout()\n",
        "plt.subplots_adjust(left=0, right=2.2, wspace=0.2)\n",
        "\n",
        "# plot global FI across three panes\n",
        "_ = global_fi['GLM Importance'].plot(kind='bar', ax=ax0, title='Best GLM Feature Importance')\n",
        "_ = global_fi['MXGB Importance'].plot(kind='bar', ax=ax1, title='Best MXGB Feature Importance')\n",
        "_ = global_fi['EBM Importance'].plot(kind='bar', ax=ax2, title='Best EBM Feature Importance')"
      ]
    },
    {
      "cell_type": "markdown",
      "id": "8e38770b",
      "metadata": {
        "id": "8e38770b"
      },
      "source": [
        "#### Compare local feature importance across models"
      ]
    },
    {
      "cell_type": "code",
      "execution_count": 40,
      "id": "6faaaf35",
      "metadata": {
        "colab": {
          "base_uri": "https://localhost:8080/",
          "height": 450
        },
        "id": "6faaaf35",
        "outputId": "70e90943-8d05-498f-ca38-628b0c9ec330"
      },
      "outputs": [
        {
          "output_type": "display_data",
          "data": {
            "text/plain": [
              "<Figure size 432x288 with 3 Axes>"
            ],
            "image/png": "[encoded data removed]"
          },
          "metadata": {
            "needs_background": "light"
          }
        }
      ],
      "source": [
        "## init 3-pane plot \n",
        "fig, (ax0, ax1, ax2) = plt.subplots(ncols=3, sharey=True)\n",
        "plt.tight_layout()\n",
        "plt.subplots_adjust(left=0, right=2, wspace=0.1)\n",
        "\n",
        "# plot comparisons of local FI across 3 panes\n",
        "_ = local_fi_dict[10].plot(kind='bar', ax=ax0,\n",
        "                             title='10th PCTL of p_high_priced')\n",
        "\n",
        "_ = local_fi_dict[50].plot(kind='bar', ax=ax1,\n",
        "                             title='50th PCTL of p_high_priced')\n",
        "\n",
        "_ = local_fi_dict[90].plot(kind='bar', ax=ax2,\n",
        "                             title='90th PCTL of p_high_priced')\n"
      ]
    },
    {
      "cell_type": "markdown",
      "id": "d7ad4186",
      "metadata": {
        "id": "d7ad4186"
      },
      "source": [
        "#### Utility function for partial dependence "
      ]
    },
    {
      "cell_type": "code",
      "execution_count": 43,
      "id": "2106828a",
      "metadata": {
        "id": "2106828a"
      },
      "outputs": [],
      "source": [
        "def par_dep(x_name, valid, model, model_type, resolution=20, bins=None):\n",
        "\n",
        "    \"\"\" Creates Pandas DataFrame containing partial dependence or ICE\n",
        "        for a single input variable.\n",
        "        :param x_name: Variable for which to calculate partial dependence.\n",
        "        :param valid: Pandas validation frame.\n",
        "        :param model: Trained model object (assumes binary classifier).\n",
        "        :param model_type: Kind of model: h2o, xgb, or ebm.\n",
        "        :param resolution: The number of points across the domain of xs for which\n",
        "                           to calculate partial dependence, default 20.\n",
        "        :param bins: List of values at which to set xs, default 20 equally-spaced\n",
        "                     points between column minimum and maximum.\n",
        "        :return: Pandas DataFrame containing partial dependence values.\n",
        "    \"\"\"\n",
        "\n",
        "    # turn off pesky Pandas copy warning\n",
        "    pd.options.mode.chained_assignment = None\n",
        "\n",
        "    # determine values at which to calculate partial dependence\n",
        "    if bins is None:\n",
        "        min_ = valid[x_name].min()\n",
        "        max_ = valid[x_name].max()\n",
        "        by = (max_ - min_) / resolution\n",
        "        # modify max and by\n",
        "        # to preserve resolution and actually search up to max\n",
        "        bins = np.arange(min_, (max_ + by), (by + np.round((1. / resolution) * by, 3)))\n",
        "        \n",
        "    # cache original column values\n",
        "    col_cache = valid.loc[:, x_name].copy(deep=True)\n",
        "\n",
        "    # calculate partial dependence\n",
        "    # by setting column of interest to constant\n",
        "    # and scoring the altered data and taking the mean of the predictions\n",
        "    temp_df = valid.copy(deep=True)\n",
        "    temp_df.loc[:, x_name] = bins[0]\n",
        "    for j, _ in enumerate(bins):\n",
        "        if j + 1 < len(bins):\n",
        "            valid.loc[:, x_name] = bins[j + 1]\n",
        "            temp_df = temp_df.append(valid, ignore_index=True)\n",
        "\n",
        "    # return input frame to original cached state\n",
        "    valid.loc[:, x_name] = col_cache\n",
        "\n",
        "    # model predictions\n",
        "    # probably assumes binary classification\n",
        "    if model_type == 'h2o':\n",
        "        temp_df['partial_dependence'] = model.predict(h2o.H2OFrame(temp_df))['p1'].as_data_frame()\n",
        "    if model_type == 'xgb':\n",
        "        temp_df['partial_dependence'] = pd.DataFrame(model.predict(xgb.DMatrix(temp_df), ntree_limit=(best_mxgb.best_ntree_limit)), columns=['phat'])\n",
        "    if model_type == 'ebm':\n",
        "        temp_df['partial_dependence'] = pd.DataFrame(model.predict_proba(temp_df)[:, 1], columns=['phat'])\n",
        "    \n",
        "    return pd.DataFrame(temp_df[[x_name, 'partial_dependence']].groupby([x_name]).mean()).reset_index()"
      ]
    },
    {
      "cell_type": "markdown",
      "id": "2149639b",
      "metadata": {
        "id": "2149639b"
      },
      "source": [
        "#### Calculate partial dependence for all X and models"
      ]
    },
    {
      "cell_type": "code",
      "execution_count": 44,
      "id": "79f579a4",
      "metadata": {
        "colab": {
          "base_uri": "https://localhost:8080/"
        },
        "id": "79f579a4",
        "outputId": "e40ef20b-959d-4283-f313-eb55f6d560dd"
      },
      "outputs": [
        {
          "output_type": "stream",
          "name": "stdout",
          "text": [
            "Calculating partial dependence for term_360 ...\n",
            "Calculating partial dependence for conforming ...\n",
            "Calculating partial dependence for debt_to_income_ratio_missing ...\n",
            "Calculating partial dependence for loan_amount_std ...\n",
            "Calculating partial dependence for loan_to_value_ratio_std ...\n",
            "Calculating partial dependence for no_intro_rate_period_std ...\n",
            "Calculating partial dependence for intro_rate_period_std ...\n",
            "Calculating partial dependence for property_value_std ...\n",
            "Calculating partial dependence for income_std ...\n",
            "Calculating partial dependence for debt_to_income_ratio_std ...\n",
            "Done.\n",
            "Partial dependence calculated in 309.53 s.\n"
          ]
        }
      ],
      "source": [
        "# start local timer\n",
        "pd_tic = time.time()\n",
        "\n",
        "# init dict to hold results\n",
        "pd_dict = {}\n",
        "\n",
        "# cycle through names and model types to calculate par dep\n",
        "for name in x_names:\n",
        "    \n",
        "    print('Calculating partial dependence for %s ...' % name)\n",
        "    \n",
        "    # setup a dataframe to hold results\n",
        "    # use bins from first par_dep() run\n",
        "    pd_dict[name] = pd.DataFrame(columns=[name, 'h2o', 'xgb', 'ebm'])\n",
        "    first_pd = par_dep(name, valid[x_names], best_glm, 'h2o')\n",
        "    pd_dict[name][name] = first_pd[name]\n",
        "    bins = first_pd[name]\n",
        "    pd_dict[name]['h2o'] = first_pd['partial_dependence']\n",
        "    \n",
        "    # calculate par dep for remaining models\n",
        "    pd_dict[name]['xgb'] = par_dep(name, valid[x_names], best_mxgb, 'xgb', bins=bins)['partial_dependence']\n",
        "    pd_dict[name]['ebm'] = par_dep(name, valid[x_names], best_ebm, 'ebm', bins=bins)['partial_dependence']\n",
        "    \n",
        "print('Done.')\n",
        "\n",
        "# end local timer\n",
        "pd_toc = time.time() - pd_tic\n",
        "print('Partial dependence calculated in %.2f s.' % (pd_toc))"
      ]
    },
    {
      "cell_type": "markdown",
      "id": "599ae9de",
      "metadata": {
        "id": "599ae9de"
      },
      "source": [
        "#### Plot partial dependence for all features and models"
      ]
    },
    {
      "cell_type": "code",
      "execution_count": 45,
      "id": "a3724be9",
      "metadata": {
        "colab": {
          "base_uri": "https://localhost:8080/",
          "height": 1000
        },
        "id": "a3724be9",
        "outputId": "7c5ac984-3c0e-42ec-eb6f-a2e89b275db2"
      },
      "outputs": [
        {
          "output_type": "display_data",
          "data": {
            "text/plain": [
              "<Figure size 432x288 with 3 Axes>"
            ],
            "image/png": "[encoded data removed]"
          },
          "metadata": {
            "needs_background": "light"
          }
        },
        {
          "output_type": "display_data",
          "data": {
            "text/plain": [
              "<Figure size 432x288 with 3 Axes>"
            ],
            "image/png": "[encoded data removed]"
          },
          "metadata": {
            "needs_background": "light"
          }
        },
        {
          "output_type": "display_data",
          "data": {
            "text/plain": [
              "<Figure size 432x288 with 3 Axes>"
            ],
            "image/png": "[encoded data removed]"
          },
          "metadata": {
            "needs_background": "light"
          }
        },
        {
          "output_type": "display_data",
          "data": {
            "text/plain": [
              "<Figure size 432x288 with 3 Axes>"
            ],
            "image/png": "[encoded data removed]"
          },
          "metadata": {
            "needs_background": "light"
          }
        },
        {
          "output_type": "display_data",
          "data": {
            "text/plain": [
              "<Figure size 432x288 with 3 Axes>"
            ],
            "image/png": "[encoded data removed]"
          },
          "metadata": {
            "needs_background": "light"
          }
        },
        {
          "output_type": "display_data",
          "data": {
            "text/plain": [
              "<Figure size 432x288 with 3 Axes>"
            ],
            "image/png": "[encoded data removed]"
          },
          "metadata": {
            "needs_background": "light"
          }
        },
        {
          "output_type": "display_data",
          "data": {
            "text/plain": [
              "<Figure size 432x288 with 3 Axes>"
            ],
            "image/png": "[encoded data removed]"
          },
          "metadata": {
            "needs_background": "light"
          }
        },
        {
          "output_type": "display_data",
          "data": {
            "text/plain": [
              "<Figure size 432x288 with 3 Axes>"
            ],
            "image/png": "[encoded data removed]"
          },
          "metadata": {
            "needs_background": "light"
          }
        },
        {
          "output_type": "display_data",
          "data": {
            "text/plain": [
              "<Figure size 432x288 with 3 Axes>"
            ],
            "image/png": "[encoded data removed]"
          },
          "metadata": {
            "needs_background": "light"
          }
        },
        {
          "output_type": "display_data",
          "data": {
            "text/plain": [
              "<Figure size 432x288 with 3 Axes>"
            ],
            "image/png": "[encoded data removed]"
          },
          "metadata": {
            "needs_background": "light"
          }
        }
      ],
      "source": [
        "# loop through names to calculate par dep \n",
        "for name in x_names:\n",
        "    \n",
        "    # init 3-pane plot\n",
        "    fig, (ax0, ax1, ax2) = plt.subplots(ncols=3, sharey=True)\n",
        "    plt.tight_layout()\n",
        "    plt.subplots_adjust(left=0, right=2.2, wspace=0.2)\n",
        "  \n",
        "    # plot par dep from each model across frames\n",
        "    pd_dict[name].plot(kind='line', x=name, y='h2o', ax=ax0, title='Best GLM Partial Dependence')\n",
        "    ax0.set_xlabel(name)\n",
        "    pd_dict[name].plot(kind='line', x=name, y='xgb', ax=ax1, title='Best MXGB Partial Dependence') \n",
        "    ax1.set_xlabel(name)\n",
        "    pd_dict[name].plot(kind='line', x=name, y='ebm', ax=ax2, title='Best EBM Partial Dependence')\n",
        "    ax2.set_xlabel(name)\n"
      ]
    },
    {
      "cell_type": "markdown",
      "id": "35aaaa92",
      "metadata": {
        "id": "35aaaa92"
      },
      "source": [
        "#### End timer"
      ]
    },
    {
      "cell_type": "code",
      "execution_count": 46,
      "id": "e978d190",
      "metadata": {
        "id": "e978d190",
        "outputId": "6588d2dc-a1e6-4ae3-eadd-18f433f333b6",
        "colab": {
          "base_uri": "https://localhost:8080/"
        }
      },
      "outputs": [
        {
          "output_type": "stream",
          "name": "stdout",
          "text": [
            "All tasks completed in 4136.21 s.\n"
          ]
        }
      ],
      "source": [
        "toc = time.time() - tic\n",
        "print('All tasks completed in %.2f s.' % (toc))"
      ]
    },
    {
      "cell_type": "markdown",
      "id": "35f92b13",
      "metadata": {
        "id": "35f92b13"
      },
      "source": [
        "#### Shutdown h2o"
      ]
    },
    {
      "cell_type": "code",
      "execution_count": 47,
      "id": "436bc4fc",
      "metadata": {
        "id": "436bc4fc",
        "outputId": "093c37d0-5f2e-495c-be52-eabe9bb06930",
        "colab": {
          "base_uri": "https://localhost:8080/"
        }
      },
      "outputs": [
        {
          "output_type": "stream",
          "name": "stdout",
          "text": [
            "H2O session _sid_b821 closed.\n"
          ]
        }
      ],
      "source": [
        "h2o.cluster().shutdown(prompt=False)"
      ]
    }
  ],
  "metadata": {
    "kernelspec": {
      "display_name": "Python 3",
      "language": "python",
      "name": "python3"
    },
    "language_info": {
      "codemirror_mode": {
        "name": "ipython",
        "version": 3
      },
      "file_extension": ".py",
      "mimetype": "text/x-python",
      "name": "python",
      "nbconvert_exporter": "python",
      "pygments_lexer": "ipython3",
      "version": "3.6.9"
    },
    "colab": {
      "name": "Assignment_2.ipynb",
      "provenance": [],
      "collapsed_sections": []
    }
  },
  "nbformat": 4,
  "nbformat_minor": 5
}